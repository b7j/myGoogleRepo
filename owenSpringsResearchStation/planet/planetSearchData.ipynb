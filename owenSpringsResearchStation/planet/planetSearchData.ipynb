{
 "cells": [
  {
   "cell_type": "code",
   "execution_count": 2,
   "metadata": {
    "collapsed": true
   },
   "outputs": [],
   "source": [
    "import os\n",
    "import requests\n",
    "from requests.auth import HTTPBasicAuth\n",
    "import pdb\n",
    "import pandas as pd\n",
    "import io\n",
    "\n",
    "os.environ['PL_API_KEY'] = \"c7b9c030faa746c7bfa5b32bbd0ea0ff\" #Planet API key\n"
   ]
  },
  {
   "cell_type": "code",
   "execution_count": 3,
   "metadata": {
    "collapsed": true
   },
   "outputs": [],
   "source": [
    "def doFilter():\n",
    "    \n",
    "    #pdb.set_trace()\n",
    "    # the geo json geometry object we got from geojson.io\n",
    "    geo_json_geometry = {\n",
    "      \"type\": \"Polygon\",\n",
    "      \"coordinates\": [\n",
    "        [\n",
    "          [\n",
    "            133.58173370361325,\n",
    "            -23.889604667707317\n",
    "          ],\n",
    "          [\n",
    "            133.59649658203125,\n",
    "            -23.889604667707317\n",
    "          ],\n",
    "          [\n",
    "            133.59649658203125,\n",
    "            -23.877361621215687\n",
    "          ],\n",
    "          [\n",
    "            133.58173370361325,\n",
    "            -23.877361621215687\n",
    "          ],\n",
    "          [\n",
    "            133.58173370361325,\n",
    "            -23.889604667707317\n",
    "          ]\n",
    "        ]\n",
    "      ]\n",
    "    }\n",
    "\n",
    "    # filter for items the overlap with our chosen geometry\n",
    "    geometry_filter = {\n",
    "      \"type\": \"GeometryFilter\",\n",
    "      \"field_name\": \"geometry\",\n",
    "      \"config\": geo_json_geometry\n",
    "    }\n",
    "\n",
    "    # filter images acquired in a certain date range\n",
    "    date_range_filter = {\n",
    "      \"type\": \"DateRangeFilter\",\n",
    "      \"field_name\": \"acquired\",\n",
    "      \"config\": {\n",
    "        \"gte\": \"2001-07-01T00:00:00.000Z\",\n",
    "        \"lte\": \"2018-08-01T00:00:00.000Z\"\n",
    "      }\n",
    "    }\n",
    "\n",
    "    # filter any images which are more than 50% clouds\n",
    "    cloud_cover_filter = {\n",
    "      \"type\": \"RangeFilter\",\n",
    "      \"field_name\": \"cloud_cover\",\n",
    "      \"config\": {\n",
    "        \"lte\": 0.5\n",
    "      }\n",
    "    }\n",
    "\n",
    "    # create a filter that combines our geo and date filters\n",
    "    # could also use an \"OrFilter\"\n",
    "    filteredData = {\n",
    "      \"type\": \"AndFilter\",\n",
    "      \"config\": [geometry_filter, date_range_filter, cloud_cover_filter]\n",
    "    }\n",
    "    \n",
    "    #pdb.set_trace()\n",
    "\n",
    "    return filteredData\n"
   ]
  },
  {
   "cell_type": "code",
   "execution_count": 4,
   "metadata": {
    "collapsed": true
   },
   "outputs": [],
   "source": [
    "def getData():\n",
    "    \n",
    "    data = doFilter()\n",
    "    \n",
    "    # Search API request object\n",
    "    search_endpoint_request = {\"item_types\": [\"REOrthoTile\"],\"filter\": data}\n",
    "    \n",
    "    result = requests.post('https://api.planet.com/data/v1/quick-search',auth=HTTPBasicAuth(os.environ['PL_API_KEY'], ''),json=search_endpoint_request)\n",
    "    \n",
    "    \n",
    "    \n",
    "    return result\n",
    "    \n",
    "    \n",
    "    \n",
    "    \n",
    "    \n",
    "    \n",
    "    \n",
    "    "
   ]
  },
  {
   "cell_type": "code",
   "execution_count": null,
   "metadata": {},
   "outputs": [],
   "source": []
  },
  {
   "cell_type": "code",
   "execution_count": 5,
   "metadata": {
    "collapsed": true
   },
   "outputs": [],
   "source": [
    "def doAnalysis():\n",
    "    \n",
    "    result = getData()\n",
    "    \n",
    "    j = result.json()\n",
    "    \n",
    "    features = j.get('features')\n",
    "    \n",
    "    itemId = []\n",
    "    \n",
    "    itemType = []\n",
    "    \n",
    "    assetType = []\n",
    "    \n",
    "    for i in features:\n",
    "        \n",
    "        itemId = i.get('id')\n",
    "        \n",
    "        properties = i.get('properties')\n",
    "        \n",
    "        itemType = properties.get('item_type')\n",
    "        \n",
    "        perm = i.get('_permissions')\n",
    "        \n",
    "        analytic = perm[0]\n",
    "        \n",
    "        assetType = 'analytic'\n",
    "        \n",
    "        response = doActivation(itemId, itemType,assetType)\n",
    "        \n",
    "        status = response.status_code\n",
    "        \n",
    "        print status\n",
    "        \n",
    "        pdb.set_trace()\n",
    "        \n",
    "        item_url = 'https://api.planet.com/data/v1/item-types/{}/items/{}/assets'.format(itemType, itemId)\n",
    "\n",
    "        result = requests.get(item_url, auth=HTTPBasicAuth(os.environ['PL_API_KEY'], ''))\n",
    "        \n",
    "        download_url = result.json()[assetType]['location']\n",
    "        \n",
    "        vsicurl_url = '/vsicurl/' + download_url\n",
    "\n",
    "        output_file = item_id + '_subarea.tif'\n",
    "        \n",
    "        gdal.Warp(output_file, vsicurl_url, dstSRS = 'EPSG:4326', cutlineDSName = 'smallArea.geojson', cropToCutline = True)\n",
    "        \n",
    "        \n",
    "\n",
    "        \n",
    "        \n",
    "        \n",
    "        print itemId\n",
    "        \n",
    "        print itemType\n",
    "        \n",
    "        print analytic\n",
    "        \n",
    "        \n",
    "    \n",
    "    \n",
    "    "
   ]
  },
  {
   "cell_type": "code",
   "execution_count": 6,
   "metadata": {
    "collapsed": true
   },
   "outputs": [],
   "source": [
    "def doActivation(itemId, itemType,assetType):\n",
    "    \n",
    "    session = requests.Session()\n",
    "    session.auth = (os.environ['PL_API_KEY'], '')\n",
    "    \n",
    "    # request an item\n",
    "    item = session.get((\"https://api.planet.com/data/v1/item-types/\" +\"{}/items/{}/assets/\").format(itemType, itemId))\n",
    "\n",
    "    # extract the activation url from the item for the desired asset\n",
    "    item_activation_url = item.json()[assetType][\"_links\"][\"activate\"]\n",
    "\n",
    "    # request activation\n",
    "    response = session.post(item_activation_url)\n",
    "    \n",
    "    return response\n",
    "    \n",
    "    "
   ]
  },
  {
   "cell_type": "code",
   "execution_count": 7,
   "metadata": {},
   "outputs": [
    {
     "name": "stdout",
     "output_type": "stream",
     "text": [
      "429\n",
      "> <ipython-input-5-3ac1ac0673be>(37)doAnalysis()\n",
      "-> item_url = 'https://api.planet.com/data/v1/item-types/{}/items/{}/assets'.format(itemType, itemId)\n",
      "(Pdb) n\n",
      "> <ipython-input-5-3ac1ac0673be>(39)doAnalysis()\n",
      "-> result = requests.get(item_url, auth=HTTPBasicAuth(os.environ['PL_API_KEY'], ''))\n",
      "(Pdb) n\n",
      "> <ipython-input-5-3ac1ac0673be>(41)doAnalysis()\n",
      "-> download_url = result.json()[assetType]['location']\n",
      "(Pdb) result\n",
      "<Response [200]>\n",
      "(Pdb) q\n"
     ]
    },
    {
     "ename": "BdbQuit",
     "evalue": "",
     "output_type": "error",
     "traceback": [
      "\u001b[1;31m---------------------------------------------------------------------------\u001b[0m",
      "\u001b[1;31mBdbQuit\u001b[0m                                   Traceback (most recent call last)",
      "\u001b[1;32m<ipython-input-7-c3be4d50e78e>\u001b[0m in \u001b[0;36m<module>\u001b[1;34m()\u001b[0m\n\u001b[1;32m----> 1\u001b[1;33m \u001b[0mdoAnalysis\u001b[0m\u001b[1;33m(\u001b[0m\u001b[1;33m)\u001b[0m\u001b[1;33m\u001b[0m\u001b[0m\n\u001b[0m",
      "\u001b[1;32m<ipython-input-5-3ac1ac0673be>\u001b[0m in \u001b[0;36mdoAnalysis\u001b[1;34m()\u001b[0m\n\u001b[0;32m     39\u001b[0m         \u001b[0mresult\u001b[0m \u001b[1;33m=\u001b[0m \u001b[0mrequests\u001b[0m\u001b[1;33m.\u001b[0m\u001b[0mget\u001b[0m\u001b[1;33m(\u001b[0m\u001b[0mitem_url\u001b[0m\u001b[1;33m,\u001b[0m \u001b[0mauth\u001b[0m\u001b[1;33m=\u001b[0m\u001b[0mHTTPBasicAuth\u001b[0m\u001b[1;33m(\u001b[0m\u001b[0mos\u001b[0m\u001b[1;33m.\u001b[0m\u001b[0menviron\u001b[0m\u001b[1;33m[\u001b[0m\u001b[1;34m'PL_API_KEY'\u001b[0m\u001b[1;33m]\u001b[0m\u001b[1;33m,\u001b[0m \u001b[1;34m''\u001b[0m\u001b[1;33m)\u001b[0m\u001b[1;33m)\u001b[0m\u001b[1;33m\u001b[0m\u001b[0m\n\u001b[0;32m     40\u001b[0m \u001b[1;33m\u001b[0m\u001b[0m\n\u001b[1;32m---> 41\u001b[1;33m         \u001b[0mdownload_url\u001b[0m \u001b[1;33m=\u001b[0m \u001b[0mresult\u001b[0m\u001b[1;33m.\u001b[0m\u001b[0mjson\u001b[0m\u001b[1;33m(\u001b[0m\u001b[1;33m)\u001b[0m\u001b[1;33m[\u001b[0m\u001b[0massetType\u001b[0m\u001b[1;33m]\u001b[0m\u001b[1;33m[\u001b[0m\u001b[1;34m'location'\u001b[0m\u001b[1;33m]\u001b[0m\u001b[1;33m\u001b[0m\u001b[0m\n\u001b[0m\u001b[0;32m     42\u001b[0m \u001b[1;33m\u001b[0m\u001b[0m\n\u001b[0;32m     43\u001b[0m         \u001b[0mvsicurl_url\u001b[0m \u001b[1;33m=\u001b[0m \u001b[1;34m'/vsicurl/'\u001b[0m \u001b[1;33m+\u001b[0m \u001b[0mdownload_url\u001b[0m\u001b[1;33m\u001b[0m\u001b[0m\n",
      "\u001b[1;32m<ipython-input-5-3ac1ac0673be>\u001b[0m in \u001b[0;36mdoAnalysis\u001b[1;34m()\u001b[0m\n\u001b[0;32m     39\u001b[0m         \u001b[0mresult\u001b[0m \u001b[1;33m=\u001b[0m \u001b[0mrequests\u001b[0m\u001b[1;33m.\u001b[0m\u001b[0mget\u001b[0m\u001b[1;33m(\u001b[0m\u001b[0mitem_url\u001b[0m\u001b[1;33m,\u001b[0m \u001b[0mauth\u001b[0m\u001b[1;33m=\u001b[0m\u001b[0mHTTPBasicAuth\u001b[0m\u001b[1;33m(\u001b[0m\u001b[0mos\u001b[0m\u001b[1;33m.\u001b[0m\u001b[0menviron\u001b[0m\u001b[1;33m[\u001b[0m\u001b[1;34m'PL_API_KEY'\u001b[0m\u001b[1;33m]\u001b[0m\u001b[1;33m,\u001b[0m \u001b[1;34m''\u001b[0m\u001b[1;33m)\u001b[0m\u001b[1;33m)\u001b[0m\u001b[1;33m\u001b[0m\u001b[0m\n\u001b[0;32m     40\u001b[0m \u001b[1;33m\u001b[0m\u001b[0m\n\u001b[1;32m---> 41\u001b[1;33m         \u001b[0mdownload_url\u001b[0m \u001b[1;33m=\u001b[0m \u001b[0mresult\u001b[0m\u001b[1;33m.\u001b[0m\u001b[0mjson\u001b[0m\u001b[1;33m(\u001b[0m\u001b[1;33m)\u001b[0m\u001b[1;33m[\u001b[0m\u001b[0massetType\u001b[0m\u001b[1;33m]\u001b[0m\u001b[1;33m[\u001b[0m\u001b[1;34m'location'\u001b[0m\u001b[1;33m]\u001b[0m\u001b[1;33m\u001b[0m\u001b[0m\n\u001b[0m\u001b[0;32m     42\u001b[0m \u001b[1;33m\u001b[0m\u001b[0m\n\u001b[0;32m     43\u001b[0m         \u001b[0mvsicurl_url\u001b[0m \u001b[1;33m=\u001b[0m \u001b[1;34m'/vsicurl/'\u001b[0m \u001b[1;33m+\u001b[0m \u001b[0mdownload_url\u001b[0m\u001b[1;33m\u001b[0m\u001b[0m\n",
      "\u001b[1;32m/opt/conda/envs/python2/lib/python2.7/bdb.pyc\u001b[0m in \u001b[0;36mtrace_dispatch\u001b[1;34m(self, frame, event, arg)\u001b[0m\n\u001b[0;32m     47\u001b[0m             \u001b[1;32mreturn\u001b[0m \u001b[1;31m# None\u001b[0m\u001b[1;33m\u001b[0m\u001b[0m\n\u001b[0;32m     48\u001b[0m         \u001b[1;32mif\u001b[0m \u001b[0mevent\u001b[0m \u001b[1;33m==\u001b[0m \u001b[1;34m'line'\u001b[0m\u001b[1;33m:\u001b[0m\u001b[1;33m\u001b[0m\u001b[0m\n\u001b[1;32m---> 49\u001b[1;33m             \u001b[1;32mreturn\u001b[0m \u001b[0mself\u001b[0m\u001b[1;33m.\u001b[0m\u001b[0mdispatch_line\u001b[0m\u001b[1;33m(\u001b[0m\u001b[0mframe\u001b[0m\u001b[1;33m)\u001b[0m\u001b[1;33m\u001b[0m\u001b[0m\n\u001b[0m\u001b[0;32m     50\u001b[0m         \u001b[1;32mif\u001b[0m \u001b[0mevent\u001b[0m \u001b[1;33m==\u001b[0m \u001b[1;34m'call'\u001b[0m\u001b[1;33m:\u001b[0m\u001b[1;33m\u001b[0m\u001b[0m\n\u001b[0;32m     51\u001b[0m             \u001b[1;32mreturn\u001b[0m \u001b[0mself\u001b[0m\u001b[1;33m.\u001b[0m\u001b[0mdispatch_call\u001b[0m\u001b[1;33m(\u001b[0m\u001b[0mframe\u001b[0m\u001b[1;33m,\u001b[0m \u001b[0marg\u001b[0m\u001b[1;33m)\u001b[0m\u001b[1;33m\u001b[0m\u001b[0m\n",
      "\u001b[1;32m/opt/conda/envs/python2/lib/python2.7/bdb.pyc\u001b[0m in \u001b[0;36mdispatch_line\u001b[1;34m(self, frame)\u001b[0m\n\u001b[0;32m     66\u001b[0m         \u001b[1;32mif\u001b[0m \u001b[0mself\u001b[0m\u001b[1;33m.\u001b[0m\u001b[0mstop_here\u001b[0m\u001b[1;33m(\u001b[0m\u001b[0mframe\u001b[0m\u001b[1;33m)\u001b[0m \u001b[1;32mor\u001b[0m \u001b[0mself\u001b[0m\u001b[1;33m.\u001b[0m\u001b[0mbreak_here\u001b[0m\u001b[1;33m(\u001b[0m\u001b[0mframe\u001b[0m\u001b[1;33m)\u001b[0m\u001b[1;33m:\u001b[0m\u001b[1;33m\u001b[0m\u001b[0m\n\u001b[0;32m     67\u001b[0m             \u001b[0mself\u001b[0m\u001b[1;33m.\u001b[0m\u001b[0muser_line\u001b[0m\u001b[1;33m(\u001b[0m\u001b[0mframe\u001b[0m\u001b[1;33m)\u001b[0m\u001b[1;33m\u001b[0m\u001b[0m\n\u001b[1;32m---> 68\u001b[1;33m             \u001b[1;32mif\u001b[0m \u001b[0mself\u001b[0m\u001b[1;33m.\u001b[0m\u001b[0mquitting\u001b[0m\u001b[1;33m:\u001b[0m \u001b[1;32mraise\u001b[0m \u001b[0mBdbQuit\u001b[0m\u001b[1;33m\u001b[0m\u001b[0m\n\u001b[0m\u001b[0;32m     69\u001b[0m         \u001b[1;32mreturn\u001b[0m \u001b[0mself\u001b[0m\u001b[1;33m.\u001b[0m\u001b[0mtrace_dispatch\u001b[0m\u001b[1;33m\u001b[0m\u001b[0m\n\u001b[0;32m     70\u001b[0m \u001b[1;33m\u001b[0m\u001b[0m\n",
      "\u001b[1;31mBdbQuit\u001b[0m: "
     ]
    }
   ],
   "source": [
    "doAnalysis()"
   ]
  },
  {
   "cell_type": "code",
   "execution_count": null,
   "metadata": {
    "collapsed": true
   },
   "outputs": [],
   "source": []
  },
  {
   "cell_type": "code",
   "execution_count": null,
   "metadata": {},
   "outputs": [],
   "source": [
    "j = result.json()"
   ]
  },
  {
   "cell_type": "code",
   "execution_count": null,
   "metadata": {},
   "outputs": [],
   "source": [
    "j.keys()"
   ]
  },
  {
   "cell_type": "code",
   "execution_count": null,
   "metadata": {},
   "outputs": [],
   "source": [
    "aa = j.get('features')"
   ]
  },
  {
   "cell_type": "code",
   "execution_count": null,
   "metadata": {},
   "outputs": [],
   "source": [
    "bb = aa[0]"
   ]
  },
  {
   "cell_type": "code",
   "execution_count": null,
   "metadata": {},
   "outputs": [],
   "source": [
    "bb.keys()"
   ]
  },
  {
   "cell_type": "code",
   "execution_count": null,
   "metadata": {},
   "outputs": [],
   "source": [
    "bb.get('_links')"
   ]
  },
  {
   "cell_type": "code",
   "execution_count": null,
   "metadata": {},
   "outputs": [],
   "source": [
    "bb"
   ]
  },
  {
   "cell_type": "code",
   "execution_count": null,
   "metadata": {},
   "outputs": [],
   "source": [
    "type(aa)"
   ]
  },
  {
   "cell_type": "code",
   "execution_count": null,
   "metadata": {},
   "outputs": [],
   "source": [
    "aa[2]"
   ]
  },
  {
   "cell_type": "code",
   "execution_count": null,
   "metadata": {
    "collapsed": true
   },
   "outputs": [],
   "source": []
  }
 ],
 "metadata": {
  "kernelspec": {
   "display_name": "Python 2",
   "language": "python",
   "name": "python2"
  },
  "language_info": {
   "codemirror_mode": {
    "name": "ipython",
    "version": 2
   },
   "file_extension": ".py",
   "mimetype": "text/x-python",
   "name": "python",
   "nbconvert_exporter": "python",
   "pygments_lexer": "ipython2",
   "version": "2.7.12"
  }
 },
 "nbformat": 4,
 "nbformat_minor": 2
}
