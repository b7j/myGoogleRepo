{
 "cells": [
  {
   "cell_type": "markdown",
   "metadata": {
    "extensions": {
     "jupyter_dashboards": {
      "version": 1,
      "views": {
       "grid_default": {
        "col": 0,
        "height": 4,
        "hidden": false,
        "row": 0,
        "width": 4
       },
       "report_default": {}
      }
     }
    }
   },
   "source": [
    "# Part 1. Select and download image data"
   ]
  },
  {
   "cell_type": "markdown",
   "metadata": {
    "extensions": {
     "jupyter_dashboards": {
      "version": 1,
      "views": {
       "grid_default": {
        "col": 4,
        "height": 4,
        "hidden": true,
        "row": 0,
        "width": 4
       },
       "report_default": {}
      }
     }
    }
   },
   "source": [
    "#### Package imports"
   ]
  },
  {
   "cell_type": "code",
   "execution_count": null,
   "metadata": {
    "collapsed": true,
    "extensions": {
     "jupyter_dashboards": {
      "version": 1,
      "views": {
       "grid_default": {
        "col": 8,
        "height": 4,
        "hidden": false,
        "row": 0,
        "width": 4
       },
       "report_default": {}
      }
     }
    }
   },
   "outputs": [],
   "source": [
    "#!jupyter nbextension enable --py widgetsnbextension"
   ]
  },
  {
   "cell_type": "code",
   "execution_count": null,
   "metadata": {
    "collapsed": true,
    "extensions": {
     "jupyter_dashboards": {
      "version": 1,
      "views": {
       "grid_default": {
        "hidden": true
       },
       "report_default": {}
      }
     }
    }
   },
   "outputs": [],
   "source": [
    "#note: if extension not working try running the following from the terminal: jupyter dashboards quick-setup --user"
   ]
  },
  {
   "cell_type": "code",
   "execution_count": null,
   "metadata": {
    "collapsed": true,
    "extensions": {
     "jupyter_dashboards": {
      "version": 1,
      "views": {
       "grid_default": {
        "col": 0,
        "height": 4,
        "hidden": true,
        "row": 4,
        "width": 4
       },
       "report_default": {}
      }
     }
    }
   },
   "outputs": [],
   "source": [
    "#!jupyter nbextension enable jupyter_dashboards --user --py"
   ]
  },
  {
   "cell_type": "code",
   "execution_count": 1,
   "metadata": {},
   "outputs": [
    {
     "name": "stdout",
     "output_type": "stream",
     "text": [
      "Collecting cufflinks\n",
      "  Downloading cufflinks-0.12.0.tar.gz (48kB)\n",
      "\u001b[K    100% |████████████████████████████████| 51kB 1.4MB/s ta 0:00:01\n",
      "\u001b[?25hRequirement already satisfied: pandas in /opt/conda/envs/python2/lib/python2.7/site-packages (from cufflinks)\n",
      "Requirement already satisfied: plotly>=2.0.0 in /opt/conda/envs/python2/lib/python2.7/site-packages (from cufflinks)\n",
      "Collecting colorlover>=0.2 (from cufflinks)\n",
      "  Downloading colorlover-0.2.1.tar.gz\n",
      "Requirement already satisfied: python-dateutil in /opt/conda/envs/python2/lib/python2.7/site-packages (from pandas->cufflinks)\n",
      "Requirement already satisfied: pytz>=2011k in /opt/conda/envs/python2/lib/python2.7/site-packages (from pandas->cufflinks)\n",
      "Requirement already satisfied: numpy>=1.7.0 in /opt/conda/envs/python2/lib/python2.7/site-packages (from pandas->cufflinks)\n",
      "Requirement already satisfied: requests in /opt/conda/envs/python2/lib/python2.7/site-packages (from plotly>=2.0.0->cufflinks)\n",
      "Requirement already satisfied: six in /opt/conda/envs/python2/lib/python2.7/site-packages (from plotly>=2.0.0->cufflinks)\n",
      "Building wheels for collected packages: cufflinks, colorlover\n",
      "  Running setup.py bdist_wheel for cufflinks ... \u001b[?25ldone\n",
      "\u001b[?25h  Stored in directory: /home/jovyan/.cache/pip/wheels/1d/79/29/bb076c9ab0bd7a932c33e7b6c7eb5d00d84001076f16549ec0\n",
      "  Running setup.py bdist_wheel for colorlover ... \u001b[?25ldone\n",
      "\u001b[?25h  Stored in directory: /home/jovyan/.cache/pip/wheels/b8/b0/18/76d3f3088cc73950ed1aa44ea074b93ed37309fea57dec78dc\n",
      "Successfully built cufflinks colorlover\n",
      "Installing collected packages: colorlover, cufflinks\n",
      "Successfully installed colorlover-0.2.1 cufflinks-0.12.0\n"
     ]
    }
   ],
   "source": [
    "!pip install cufflinks"
   ]
  },
  {
   "cell_type": "code",
   "execution_count": 2,
   "metadata": {},
   "outputs": [
    {
     "name": "stdout",
     "output_type": "stream",
     "text": [
      "Collecting utm\n",
      "  Downloading utm-0.4.2.tar.gz\n",
      "Building wheels for collected packages: utm\n",
      "  Running setup.py bdist_wheel for utm ... \u001b[?25ldone\n",
      "\u001b[?25h  Stored in directory: /home/jovyan/.cache/pip/wheels/18/f5/d5/7ed9ab14cc72ab038bdd0eab3c16476030cd17d692f2468b1a\n",
      "Successfully built utm\n",
      "Installing collected packages: utm\n",
      "Successfully installed utm-0.4.2\n"
     ]
    }
   ],
   "source": [
    "!pip install utm"
   ]
  },
  {
   "cell_type": "code",
   "execution_count": 3,
   "metadata": {
    "collapsed": true,
    "extensions": {
     "jupyter_dashboards": {
      "version": 1,
      "views": {
       "grid_default": {
        "col": 4,
        "height": 4,
        "hidden": false,
        "row": 0,
        "width": 4
       },
       "report_default": {}
      }
     }
    }
   },
   "outputs": [],
   "source": [
    "\n",
    "#interactive web map package\n",
    "import folium \n",
    "from folium import features\n",
    "import shapefile\n",
    "from json import dumps\n",
    "from folium import plugins\n",
    "\n",
    "#Miscellanous\n",
    "from IPython.core.display import display #display inline package\n",
    "from ipywidgets import interact, interactive, fixed, FloatProgress\n",
    "import ipywidgets as widgets\n",
    "import pdb #debugging tool\n",
    "import pandas as pd # pandas dataframe package\n",
    "import pandas\n",
    "from datetime import datetime #date conversion tool\n",
    "from xlrd.xldate import xldate_as_tuple #xldate converter\n",
    "from urllib2 import urlopen #get data from web tool\n",
    "#from collections import OrderedDict\n",
    "#import warnings\n",
    "#warnings.filterwarnings('ignore')\n",
    "from IPython.display import Image\n",
    "import utm #lat long to utms\n",
    "import zipfile #unzip tool\n",
    "from IPython.display import clear_output\n",
    "from scipy.signal import correlate #rainfall correlation\n",
    "\n",
    "#numpy packages and tools\n",
    "import numpy as np\n",
    "from numpy import linspace\n",
    "\n",
    "import rasterio #io raster data \n",
    "#from osgeo import gdal\n",
    "\n",
    "#Plotly tools\n",
    "import plotly.tools as tls\n",
    "tls.set_credentials_file(username='NTPlotly', api_key='48kd2al3f2') #my plotly credentials (please dont use they cost me $$)\n",
    "import plotly.plotly as py\n",
    "#from plotly.graph_objs import *\n",
    "import plotly.graph_objs as go\n",
    "from plotly import tools\n",
    "import cufflinks as cf\n",
    "import matplotlib"
   ]
  },
  {
   "cell_type": "markdown",
   "metadata": {
    "extensions": {
     "jupyter_dashboards": {
      "version": 1,
      "views": {
       "grid_default": {
        "col": 8,
        "height": 4,
        "hidden": false,
        "row": 4,
        "width": 4
       },
       "report_default": {}
      }
     }
    }
   },
   "source": [
    "#### Data import"
   ]
  },
  {
   "cell_type": "markdown",
   "metadata": {
    "extensions": {
     "jupyter_dashboards": {
      "version": 1,
      "views": {
       "grid_default": {
        "col": 0,
        "height": 4,
        "hidden": false,
        "row": 4,
        "width": 4
       },
       "report_default": {}
      }
     }
    }
   },
   "source": [
    "##### Import site coords"
   ]
  },
  {
   "cell_type": "markdown",
   "metadata": {
    "extensions": {
     "jupyter_dashboards": {
      "version": 1,
      "views": {
       "grid_default": {
        "col": 4,
        "height": 4,
        "hidden": false,
        "row": 4,
        "width": 4
       },
       "report_default": {}
      }
     }
    }
   },
   "source": [
    "Import a list of the ~500 sites across the study area with each sites latitude and longitude."
   ]
  },
  {
   "cell_type": "code",
   "execution_count": 4,
   "metadata": {
    "collapsed": true,
    "extensions": {
     "jupyter_dashboards": {
      "version": 1,
      "views": {
       "grid_default": {
        "hidden": true
       },
       "report_default": {}
      }
     }
    }
   },
   "outputs": [],
   "source": [
    "#Function to get a number of lists and shapefiles about the study area.\n",
    "\n",
    "def getdata():\n",
    "    \n",
    "    \n",
    "        #reads in a prepared list of sites asat September 2016 from dropbox\n",
    "        url = \"https://dl.dropboxusercontent.com/u/53285700/csvs/siteDetails.csv\"  # dl=1 is important\n",
    "        u = urlopen(url)\n",
    "        data = u.read()\n",
    "        u.close()\n",
    "        filename = \"siteDetails.csv\"\n",
    "\n",
    "        with open(filename, \"wb\") as f :\n",
    "            f.write(data)\n",
    "\n",
    "        df = pd.read_csv(filename) \n",
    "\n",
    "        #reads in a prepared list of images for downloading, note the images have been created, stored and extracted into dropbox folder from the dsiti system using the following script on the hpc: UQ_createNPVChips.py\n",
    "        url = \"https://dl.dropboxusercontent.com/u/53285700/images/images.txt\"  # dl=1 is important\n",
    "        u = urlopen(url)\n",
    "        data = u.read()\n",
    "        u.close()\n",
    "        filename = \"imageNames.csv\"\n",
    "\n",
    "        with open(filename, \"wb\") as f :\n",
    "            f.write(data)\n",
    "\n",
    "        images = pd.read_csv(filename,header=None)\n",
    "\n",
    "        #read in zip file containing shapefile of sub ibra bioregions\n",
    "        url = \"https://www.dropbox.com/s/d63c5m0jac6jvct/NTSubIbra.zip?dl=1\"  # dl=1 is important\n",
    "        u = urlopen(url)\n",
    "        data = u.read()\n",
    "        u.close()\n",
    "        filename = \"NTSubIbra.zip\"\n",
    "\n",
    "        with open(filename, \"wb\") as f :\n",
    "            f.write(data)\n",
    "            \n",
    "        return df, images"
   ]
  },
  {
   "cell_type": "code",
   "execution_count": 5,
   "metadata": {
    "extensions": {
     "jupyter_dashboards": {
      "version": 1,
      "views": {
       "grid_default": {
        "hidden": true
       },
       "report_default": {}
      }
     }
    }
   },
   "outputs": [
    {
     "ename": "HTTPError",
     "evalue": "HTTP Error 404: Not Found",
     "output_type": "error",
     "traceback": [
      "\u001b[1;31m---------------------------------------------------------------------------\u001b[0m",
      "\u001b[1;31mHTTPError\u001b[0m                                 Traceback (most recent call last)",
      "\u001b[1;32m<ipython-input-5-32a089b12179>\u001b[0m in \u001b[0;36m<module>\u001b[1;34m()\u001b[0m\n\u001b[0;32m      1\u001b[0m \u001b[1;31m#call the getdata function - inline\u001b[0m\u001b[1;33m\u001b[0m\u001b[1;33m\u001b[0m\u001b[0m\n\u001b[1;32m----> 2\u001b[1;33m \u001b[0mdf\u001b[0m\u001b[1;33m,\u001b[0m\u001b[0mimages\u001b[0m \u001b[1;33m=\u001b[0m \u001b[0mgetdata\u001b[0m\u001b[1;33m(\u001b[0m\u001b[1;33m)\u001b[0m\u001b[1;33m\u001b[0m\u001b[0m\n\u001b[0m",
      "\u001b[1;32m<ipython-input-4-2826e1ebe2d4>\u001b[0m in \u001b[0;36mgetdata\u001b[1;34m()\u001b[0m\n\u001b[0;32m      6\u001b[0m         \u001b[1;31m#reads in a prepared list of sites asat September 2016 from dropbox\u001b[0m\u001b[1;33m\u001b[0m\u001b[1;33m\u001b[0m\u001b[0m\n\u001b[0;32m      7\u001b[0m         \u001b[0murl\u001b[0m \u001b[1;33m=\u001b[0m \u001b[1;34m\"https://dl.dropboxusercontent.com/u/53285700/csvs/siteDetails.csv\"\u001b[0m  \u001b[1;31m# dl=1 is important\u001b[0m\u001b[1;33m\u001b[0m\u001b[0m\n\u001b[1;32m----> 8\u001b[1;33m         \u001b[0mu\u001b[0m \u001b[1;33m=\u001b[0m \u001b[0murlopen\u001b[0m\u001b[1;33m(\u001b[0m\u001b[0murl\u001b[0m\u001b[1;33m)\u001b[0m\u001b[1;33m\u001b[0m\u001b[0m\n\u001b[0m\u001b[0;32m      9\u001b[0m         \u001b[0mdata\u001b[0m \u001b[1;33m=\u001b[0m \u001b[0mu\u001b[0m\u001b[1;33m.\u001b[0m\u001b[0mread\u001b[0m\u001b[1;33m(\u001b[0m\u001b[1;33m)\u001b[0m\u001b[1;33m\u001b[0m\u001b[0m\n\u001b[0;32m     10\u001b[0m         \u001b[0mu\u001b[0m\u001b[1;33m.\u001b[0m\u001b[0mclose\u001b[0m\u001b[1;33m(\u001b[0m\u001b[1;33m)\u001b[0m\u001b[1;33m\u001b[0m\u001b[0m\n",
      "\u001b[1;32m/opt/conda/envs/python2/lib/python2.7/urllib2.pyc\u001b[0m in \u001b[0;36murlopen\u001b[1;34m(url, data, timeout, cafile, capath, cadefault, context)\u001b[0m\n\u001b[0;32m    152\u001b[0m     \u001b[1;32melse\u001b[0m\u001b[1;33m:\u001b[0m\u001b[1;33m\u001b[0m\u001b[0m\n\u001b[0;32m    153\u001b[0m         \u001b[0mopener\u001b[0m \u001b[1;33m=\u001b[0m \u001b[0m_opener\u001b[0m\u001b[1;33m\u001b[0m\u001b[0m\n\u001b[1;32m--> 154\u001b[1;33m     \u001b[1;32mreturn\u001b[0m \u001b[0mopener\u001b[0m\u001b[1;33m.\u001b[0m\u001b[0mopen\u001b[0m\u001b[1;33m(\u001b[0m\u001b[0murl\u001b[0m\u001b[1;33m,\u001b[0m \u001b[0mdata\u001b[0m\u001b[1;33m,\u001b[0m \u001b[0mtimeout\u001b[0m\u001b[1;33m)\u001b[0m\u001b[1;33m\u001b[0m\u001b[0m\n\u001b[0m\u001b[0;32m    155\u001b[0m \u001b[1;33m\u001b[0m\u001b[0m\n\u001b[0;32m    156\u001b[0m \u001b[1;32mdef\u001b[0m \u001b[0minstall_opener\u001b[0m\u001b[1;33m(\u001b[0m\u001b[0mopener\u001b[0m\u001b[1;33m)\u001b[0m\u001b[1;33m:\u001b[0m\u001b[1;33m\u001b[0m\u001b[0m\n",
      "\u001b[1;32m/opt/conda/envs/python2/lib/python2.7/urllib2.pyc\u001b[0m in \u001b[0;36mopen\u001b[1;34m(self, fullurl, data, timeout)\u001b[0m\n\u001b[0;32m    433\u001b[0m         \u001b[1;32mfor\u001b[0m \u001b[0mprocessor\u001b[0m \u001b[1;32min\u001b[0m \u001b[0mself\u001b[0m\u001b[1;33m.\u001b[0m\u001b[0mprocess_response\u001b[0m\u001b[1;33m.\u001b[0m\u001b[0mget\u001b[0m\u001b[1;33m(\u001b[0m\u001b[0mprotocol\u001b[0m\u001b[1;33m,\u001b[0m \u001b[1;33m[\u001b[0m\u001b[1;33m]\u001b[0m\u001b[1;33m)\u001b[0m\u001b[1;33m:\u001b[0m\u001b[1;33m\u001b[0m\u001b[0m\n\u001b[0;32m    434\u001b[0m             \u001b[0mmeth\u001b[0m \u001b[1;33m=\u001b[0m \u001b[0mgetattr\u001b[0m\u001b[1;33m(\u001b[0m\u001b[0mprocessor\u001b[0m\u001b[1;33m,\u001b[0m \u001b[0mmeth_name\u001b[0m\u001b[1;33m)\u001b[0m\u001b[1;33m\u001b[0m\u001b[0m\n\u001b[1;32m--> 435\u001b[1;33m             \u001b[0mresponse\u001b[0m \u001b[1;33m=\u001b[0m \u001b[0mmeth\u001b[0m\u001b[1;33m(\u001b[0m\u001b[0mreq\u001b[0m\u001b[1;33m,\u001b[0m \u001b[0mresponse\u001b[0m\u001b[1;33m)\u001b[0m\u001b[1;33m\u001b[0m\u001b[0m\n\u001b[0m\u001b[0;32m    436\u001b[0m \u001b[1;33m\u001b[0m\u001b[0m\n\u001b[0;32m    437\u001b[0m         \u001b[1;32mreturn\u001b[0m \u001b[0mresponse\u001b[0m\u001b[1;33m\u001b[0m\u001b[0m\n",
      "\u001b[1;32m/opt/conda/envs/python2/lib/python2.7/urllib2.pyc\u001b[0m in \u001b[0;36mhttp_response\u001b[1;34m(self, request, response)\u001b[0m\n\u001b[0;32m    546\u001b[0m         \u001b[1;32mif\u001b[0m \u001b[1;32mnot\u001b[0m \u001b[1;33m(\u001b[0m\u001b[1;36m200\u001b[0m \u001b[1;33m<=\u001b[0m \u001b[0mcode\u001b[0m \u001b[1;33m<\u001b[0m \u001b[1;36m300\u001b[0m\u001b[1;33m)\u001b[0m\u001b[1;33m:\u001b[0m\u001b[1;33m\u001b[0m\u001b[0m\n\u001b[0;32m    547\u001b[0m             response = self.parent.error(\n\u001b[1;32m--> 548\u001b[1;33m                 'http', request, response, code, msg, hdrs)\n\u001b[0m\u001b[0;32m    549\u001b[0m \u001b[1;33m\u001b[0m\u001b[0m\n\u001b[0;32m    550\u001b[0m         \u001b[1;32mreturn\u001b[0m \u001b[0mresponse\u001b[0m\u001b[1;33m\u001b[0m\u001b[0m\n",
      "\u001b[1;32m/opt/conda/envs/python2/lib/python2.7/urllib2.pyc\u001b[0m in \u001b[0;36merror\u001b[1;34m(self, proto, *args)\u001b[0m\n\u001b[0;32m    471\u001b[0m         \u001b[1;32mif\u001b[0m \u001b[0mhttp_err\u001b[0m\u001b[1;33m:\u001b[0m\u001b[1;33m\u001b[0m\u001b[0m\n\u001b[0;32m    472\u001b[0m             \u001b[0margs\u001b[0m \u001b[1;33m=\u001b[0m \u001b[1;33m(\u001b[0m\u001b[0mdict\u001b[0m\u001b[1;33m,\u001b[0m \u001b[1;34m'default'\u001b[0m\u001b[1;33m,\u001b[0m \u001b[1;34m'http_error_default'\u001b[0m\u001b[1;33m)\u001b[0m \u001b[1;33m+\u001b[0m \u001b[0morig_args\u001b[0m\u001b[1;33m\u001b[0m\u001b[0m\n\u001b[1;32m--> 473\u001b[1;33m             \u001b[1;32mreturn\u001b[0m \u001b[0mself\u001b[0m\u001b[1;33m.\u001b[0m\u001b[0m_call_chain\u001b[0m\u001b[1;33m(\u001b[0m\u001b[1;33m*\u001b[0m\u001b[0margs\u001b[0m\u001b[1;33m)\u001b[0m\u001b[1;33m\u001b[0m\u001b[0m\n\u001b[0m\u001b[0;32m    474\u001b[0m \u001b[1;33m\u001b[0m\u001b[0m\n\u001b[0;32m    475\u001b[0m \u001b[1;31m# XXX probably also want an abstract factory that knows when it makes\u001b[0m\u001b[1;33m\u001b[0m\u001b[1;33m\u001b[0m\u001b[0m\n",
      "\u001b[1;32m/opt/conda/envs/python2/lib/python2.7/urllib2.pyc\u001b[0m in \u001b[0;36m_call_chain\u001b[1;34m(self, chain, kind, meth_name, *args)\u001b[0m\n\u001b[0;32m    405\u001b[0m             \u001b[0mfunc\u001b[0m \u001b[1;33m=\u001b[0m \u001b[0mgetattr\u001b[0m\u001b[1;33m(\u001b[0m\u001b[0mhandler\u001b[0m\u001b[1;33m,\u001b[0m \u001b[0mmeth_name\u001b[0m\u001b[1;33m)\u001b[0m\u001b[1;33m\u001b[0m\u001b[0m\n\u001b[0;32m    406\u001b[0m \u001b[1;33m\u001b[0m\u001b[0m\n\u001b[1;32m--> 407\u001b[1;33m             \u001b[0mresult\u001b[0m \u001b[1;33m=\u001b[0m \u001b[0mfunc\u001b[0m\u001b[1;33m(\u001b[0m\u001b[1;33m*\u001b[0m\u001b[0margs\u001b[0m\u001b[1;33m)\u001b[0m\u001b[1;33m\u001b[0m\u001b[0m\n\u001b[0m\u001b[0;32m    408\u001b[0m             \u001b[1;32mif\u001b[0m \u001b[0mresult\u001b[0m \u001b[1;32mis\u001b[0m \u001b[1;32mnot\u001b[0m \u001b[0mNone\u001b[0m\u001b[1;33m:\u001b[0m\u001b[1;33m\u001b[0m\u001b[0m\n\u001b[0;32m    409\u001b[0m                 \u001b[1;32mreturn\u001b[0m \u001b[0mresult\u001b[0m\u001b[1;33m\u001b[0m\u001b[0m\n",
      "\u001b[1;32m/opt/conda/envs/python2/lib/python2.7/urllib2.pyc\u001b[0m in \u001b[0;36mhttp_error_default\u001b[1;34m(self, req, fp, code, msg, hdrs)\u001b[0m\n\u001b[0;32m    554\u001b[0m \u001b[1;32mclass\u001b[0m \u001b[0mHTTPDefaultErrorHandler\u001b[0m\u001b[1;33m(\u001b[0m\u001b[0mBaseHandler\u001b[0m\u001b[1;33m)\u001b[0m\u001b[1;33m:\u001b[0m\u001b[1;33m\u001b[0m\u001b[0m\n\u001b[0;32m    555\u001b[0m     \u001b[1;32mdef\u001b[0m \u001b[0mhttp_error_default\u001b[0m\u001b[1;33m(\u001b[0m\u001b[0mself\u001b[0m\u001b[1;33m,\u001b[0m \u001b[0mreq\u001b[0m\u001b[1;33m,\u001b[0m \u001b[0mfp\u001b[0m\u001b[1;33m,\u001b[0m \u001b[0mcode\u001b[0m\u001b[1;33m,\u001b[0m \u001b[0mmsg\u001b[0m\u001b[1;33m,\u001b[0m \u001b[0mhdrs\u001b[0m\u001b[1;33m)\u001b[0m\u001b[1;33m:\u001b[0m\u001b[1;33m\u001b[0m\u001b[0m\n\u001b[1;32m--> 556\u001b[1;33m         \u001b[1;32mraise\u001b[0m \u001b[0mHTTPError\u001b[0m\u001b[1;33m(\u001b[0m\u001b[0mreq\u001b[0m\u001b[1;33m.\u001b[0m\u001b[0mget_full_url\u001b[0m\u001b[1;33m(\u001b[0m\u001b[1;33m)\u001b[0m\u001b[1;33m,\u001b[0m \u001b[0mcode\u001b[0m\u001b[1;33m,\u001b[0m \u001b[0mmsg\u001b[0m\u001b[1;33m,\u001b[0m \u001b[0mhdrs\u001b[0m\u001b[1;33m,\u001b[0m \u001b[0mfp\u001b[0m\u001b[1;33m)\u001b[0m\u001b[1;33m\u001b[0m\u001b[0m\n\u001b[0m\u001b[0;32m    557\u001b[0m \u001b[1;33m\u001b[0m\u001b[0m\n\u001b[0;32m    558\u001b[0m \u001b[1;32mclass\u001b[0m \u001b[0mHTTPRedirectHandler\u001b[0m\u001b[1;33m(\u001b[0m\u001b[0mBaseHandler\u001b[0m\u001b[1;33m)\u001b[0m\u001b[1;33m:\u001b[0m\u001b[1;33m\u001b[0m\u001b[0m\n",
      "\u001b[1;31mHTTPError\u001b[0m: HTTP Error 404: Not Found"
     ]
    }
   ],
   "source": [
    "#call the getdata function - inline\n",
    "df,images = getdata()"
   ]
  },
  {
   "cell_type": "markdown",
   "metadata": {
    "extensions": {
     "jupyter_dashboards": {
      "version": 1,
      "views": {
       "grid_default": {
        "col": 8,
        "height": 4,
        "hidden": false,
        "row": 8,
        "width": 4
       },
       "report_default": {}
      }
     }
    }
   },
   "source": [
    "#### Step 1. Click button below to create a web map with field sites"
   ]
  },
  {
   "cell_type": "code",
   "execution_count": 4,
   "metadata": {
    "collapsed": true,
    "extensions": {
     "jupyter_dashboards": {
      "version": 1,
      "views": {
       "grid_default": {
        "hidden": true
       },
       "report_default": {}
      }
     }
    }
   },
   "outputs": [],
   "source": [
    "#display map and select site (manual at this stage, plan is to use click to fire download)\n",
    "\n",
    "def onMapButtonClick(b):\n",
    "\n",
    "    '''\n",
    "    #unzip shapefile of bioregions\n",
    "    zip1 = zipfile.ZipFile('data/NTSubIbra.zip')\n",
    "    zip1.extractall()\n",
    "    zip1.close()\n",
    "    \n",
    "    #Convert IBRA shapefile to geojsn\n",
    "\n",
    "    #Read in the bioregion shp\n",
    "    reader = shapefile.Reader(\"data/NTSubIbra.shp\")\n",
    "    fields = reader.fields[1:]\n",
    "    field_names = [field[0] for field in fields]\n",
    "    buffer1 = []\n",
    "    for sr in reader.shapeRecords():\n",
    "        atr = dict(zip(field_names, sr.record))\n",
    "        geom = sr.shape.__geo_interface__\n",
    "        buffer1.append(dict(type=\"Feature\", \\\n",
    "        geometry=geom, properties=atr))\n",
    "\n",
    "    #convert to geojs\n",
    "    geojson = open(\"data/NTSubIbra.json\", \"w\")\n",
    "    geojson.write(dumps({\"type\": \"FeatureCollection\",\"features\": buffer1}, indent=2) + \"\\n\")\n",
    "    geojson.close()\n",
    "    '''\n",
    "    print \"Please be patient as this can take up to 30 secs\"\n",
    "    #create the map centered on Alice Springs with a DEM background\n",
    "    m = folium.Map(location=[-23.7003, 133.8808],zoom_start=7) # create the web map from a basic terrain and street map\n",
    "    \n",
    "    #pdb.set_trace()\n",
    "    \n",
    "\n",
    "    url = 'http://services.arcgisonline.com/arcgis/rest/services/World_Imagery/MapServer/MapServer/tile/{z}/{y}/{x}'\n",
    "\n",
    "    m.add_tile_layer(name=\"World_Imagery\",tiles=url, attr =\"world imagery\" )\n",
    "\n",
    "    #folium.GeoJson(open(\"NTSubIbra.json\"),style_function=lambda feature: {'color': 'black','weight' : 1,'fillOpacity':0.1}).add_to(m) ## this has commented out as it take a large amount of time to redraw\n",
    "\n",
    "    #add each site to the web map with its site id. This can a few seconds to add the ~500 sites one by one.\n",
    "    for i in range(len(df)):  \n",
    "    \n",
    "        folium.CircleMarker([df.iloc[i]['lat'], df.iloc[i]['longt']], popup=df.iloc[i]['sites'],radius=50,fill_color='yellow').add_to(m)\n",
    "            \n",
    "    display(m)\n",
    "    "
   ]
  },
  {
   "cell_type": "code",
   "execution_count": 5,
   "metadata": {
    "extensions": {
     "jupyter_dashboards": {
      "version": 1,
      "views": {
       "grid_default": {
        "hidden": true
       },
       "report_default": {}
      }
     }
    }
   },
   "outputs": [
    {
     "data": {
      "application/vnd.jupyter.widget-view+json": {
       "model_id": "9bb93a9a6f7a466791d4696ff7358bb7"
      }
     },
     "metadata": {},
     "output_type": "display_data"
    }
   ],
   "source": [
    "# Click yo display map for site selection\n",
    "button = widgets.Button(description=\"click to view map\")\n",
    "display(button)\n",
    "button.on_click(onMapButtonClick)"
   ]
  },
  {
   "cell_type": "markdown",
   "metadata": {
    "extensions": {
     "jupyter_dashboards": {
      "version": 1,
      "views": {
       "grid_default": {
        "col": 0,
        "height": 4,
        "hidden": false,
        "row": 8,
        "width": 4
       },
       "report_default": {}
      }
     }
    }
   },
   "source": [
    "#### Enter site details and download image"
   ]
  },
  {
   "cell_type": "markdown",
   "metadata": {
    "extensions": {
     "jupyter_dashboards": {
      "version": 1,
      "views": {
       "grid_default": {
        "col": 4,
        "height": 4,
        "hidden": false,
        "row": 8,
        "width": 4
       },
       "report_default": {}
      }
     }
    }
   },
   "source": [
    "First four functions are called when the site id is entered and downlaod button clicked (see text box and botton below)"
   ]
  },
  {
   "cell_type": "code",
   "execution_count": 6,
   "metadata": {
    "collapsed": true,
    "extensions": {
     "jupyter_dashboards": {
      "version": 1,
      "views": {
       "grid_default": {
        "hidden": true
       },
       "report_default": {}
      }
     }
    }
   },
   "outputs": [],
   "source": [
    "#Function to download selected image and associated list of image dates csv file into local directory\n",
    "\n",
    "def getDropboxImage(url): \n",
    "    \n",
    "    #image download\n",
    "    u = urlopen(url)\n",
    "    data = u.read()\n",
    "    u.close()\n",
    "    filename = \"chip.tif\"\n",
    " \n",
    "    with open(filename, \"wb\") as f :\n",
    "        f.write(data)\n",
    "    \n",
    "    #pdb.set_trace()\n",
    "    #dates csv download\n",
    "    urlTemp = url.replace('images','csvs')\n",
    "    urlTemp = urlTemp.replace('.tif','.csv')\n",
    "    u = urlopen(urlTemp)\n",
    "    data = u.read()\n",
    "    u.close()\n",
    "    filename = \"dates.csv\"\n",
    " \n",
    "    with open(filename, \"wb\") as f :\n",
    "        f.write(data)"
   ]
  },
  {
   "cell_type": "code",
   "execution_count": 7,
   "metadata": {
    "collapsed": true,
    "extensions": {
     "jupyter_dashboards": {
      "version": 1,
      "views": {
       "grid_default": {
        "hidden": true
       },
       "report_default": {}
      }
     }
    }
   },
   "outputs": [],
   "source": [
    "#Function to match the selected field name with the image name and create the correct url for dropbox download\n",
    "def matchFileName(siteId):\n",
    "    \n",
    "    #loop through  list of images and match to site name \n",
    "    for index, row in images.iterrows():\n",
    "    \n",
    "        name = row[0]\n",
    "\n",
    "        nameTemp = name.replace('e','_') # a bit of tidying up to get the obs keys to match\n",
    "\n",
    "        nameTemp = nameTemp.replace('s','') # a bit of tidying up to get the obs keys to match\n",
    "\n",
    "        key = nameTemp[7:33] #slice the obskey out of the image name\n",
    "\n",
    "        dropVal = siteId[:-7] # loose the trailing zeros\n",
    "\n",
    "        if dropVal == key: #if a match occurs concat to the end of the dropbox public url\n",
    "            \n",
    "            #pdb.set_trace()\n",
    "                       \n",
    "            url = 'https://dl.dropboxusercontent.com/u/53285700/images/' + name\n",
    "            \n",
    "            print url\n",
    "\n",
    "            return url\n",
    "\n",
    "    "
   ]
  },
  {
   "cell_type": "code",
   "execution_count": 8,
   "metadata": {
    "collapsed": true,
    "extensions": {
     "jupyter_dashboards": {
      "version": 1,
      "views": {
       "grid_default": {
        "hidden": true
       },
       "report_default": {}
      }
     }
    }
   },
   "outputs": [],
   "source": [
    "def doMatch():\n",
    "    \n",
    "    mask = df['sites']== text.value\n",
    "    \n",
    "    #mask = df['sites']== 'nhv03'\n",
    "    \n",
    "    #pdb.set_trace()\n",
    "    \n",
    "    if sum(mask) == 0:\n",
    "        \n",
    "        print 'no match found - try another site id'\n",
    "        \n",
    "    elif sum(mask)>0:\n",
    "        \n",
    "        obskey = df['obs_keys'][mask]\n",
    "    \n",
    "        siteId = obskey.iloc[0]   \n",
    "        \n",
    "        return siteId"
   ]
  },
  {
   "cell_type": "code",
   "execution_count": 9,
   "metadata": {
    "collapsed": true,
    "extensions": {
     "jupyter_dashboards": {
      "version": 1,
      "views": {
       "grid_default": {
        "hidden": true
       },
       "report_default": {}
      }
     }
    }
   },
   "outputs": [],
   "source": [
    "#Function that is fired when the download button is clicked\n",
    "def on_button_clicked(b):\n",
    "    \n",
    "    siteId = doMatch()\n",
    "    \n",
    "    url = matchFileName(siteId)\n",
    "   \n",
    "    print \"Downloading please wait....\"\n",
    "    \n",
    "    getDropboxImage(url)\n",
    "    \n",
    "    print \"Download Complete\""
   ]
  },
  {
   "cell_type": "code",
   "execution_count": 10,
   "metadata": {
    "collapsed": true
   },
   "outputs": [],
   "source": [
    "#on_button_clicked('b')"
   ]
  },
  {
   "cell_type": "code",
   "execution_count": 11,
   "metadata": {
    "extensions": {
     "jupyter_dashboards": {
      "version": 1,
      "views": {
       "grid_default": {
        "hidden": true
       },
       "report_default": {}
      }
     }
    }
   },
   "outputs": [
    {
     "data": {
      "application/vnd.jupyter.widget-view+json": {
       "model_id": "5f3a75c306d74ace82408633cf5d2d28"
      }
     },
     "metadata": {},
     "output_type": "display_data"
    }
   ],
   "source": [
    "#Enter siteId from map exactly as it is displayed ie. 'hmd20' or 'bsp14a'\n",
    "text = widgets.Text(description=\"site id\")\n",
    "display(text)"
   ]
  },
  {
   "cell_type": "code",
   "execution_count": 12,
   "metadata": {
    "extensions": {
     "jupyter_dashboards": {
      "version": 1,
      "views": {
       "grid_default": {
        "hidden": true
       },
       "report_default": {}
      }
     }
    }
   },
   "outputs": [
    {
     "data": {
      "application/vnd.jupyter.widget-view+json": {
       "model_id": "0cd8b4690ee6419ca32d89e8ce26379d"
      }
     },
     "metadata": {},
     "output_type": "display_data"
    },
    {
     "name": "stdout",
     "output_type": "stream",
     "text": [
      "https://dl.dropboxusercontent.com/u/53285700/images/lztmre_13353439e02471465s_20121011_dbkm0_e2012fracStack.tif\n",
      "Downloading please wait....\n",
      "Download Complete\n"
     ]
    }
   ],
   "source": [
    "# Click download to import geotif image and csv date files to local directory\n",
    "button = widgets.Button(description=\"Click to download\")\n",
    "display(button)\n",
    "button.on_click(on_button_clicked)"
   ]
  },
  {
   "cell_type": "code",
   "execution_count": null,
   "metadata": {
    "collapsed": true
   },
   "outputs": [],
   "source": []
  }
 ],
 "metadata": {
  "extensions": {
   "jupyter_dashboards": {
    "activeView": "grid_default",
    "version": 1,
    "views": {
     "grid_default": {
      "cellMargin": 10,
      "defaultCellHeight": 20,
      "maxColumns": 12,
      "name": "grid",
      "type": "grid"
     },
     "report_default": {
      "name": "report",
      "type": "report"
     }
    }
   }
  },
  "kernelspec": {
   "display_name": "Python 2",
   "language": "python",
   "name": "python2"
  },
  "language_info": {
   "codemirror_mode": {
    "name": "ipython",
    "version": 2
   },
   "file_extension": ".py",
   "mimetype": "text/x-python",
   "name": "python",
   "nbconvert_exporter": "python",
   "pygments_lexer": "ipython2",
   "version": "2.7.12"
  },
  "widgets": {
   "state": {
    "23e021fa9e244ef1bae802e88479c51d": {
     "views": [
      {
       "cell_index": 20
      }
     ]
    },
    "485bb465f1e64d0f9f8f237063ce6108": {
     "views": [
      {
       "cell_index": 21
      }
     ]
    },
    "fe5c51cf42fe4f8ca808229f78cff6f8": {
     "views": [
      {
       "cell_index": 13
      }
     ]
    }
   },
   "version": "1.2.0"
  }
 },
 "nbformat": 4,
 "nbformat_minor": 1
}
