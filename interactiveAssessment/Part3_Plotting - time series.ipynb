{
 "cells": [
  {
   "cell_type": "markdown",
   "metadata": {
    "extensions": {
     "jupyter_dashboards": {
      "version": 1,
      "views": {
       "grid_default": {
        "col": 4,
        "height": 4,
        "hidden": true,
        "row": 0,
        "width": 4
       },
       "report_default": {
        "hidden": false
       }
      }
     }
    }
   },
   "source": [
    "##### Package imports"
   ]
  },
  {
   "cell_type": "code",
   "execution_count": 4,
   "metadata": {
    "extensions": {
     "jupyter_dashboards": {
      "version": 1,
      "views": {
       "grid_default": {
        "hidden": true
       },
       "report_default": {
        "hidden": false
       }
      }
     }
    }
   },
   "outputs": [
    {
     "name": "stdout",
     "output_type": "stream",
     "text": [
      "Enabling notebook extension jupyter-js-widgets/extension...\r\n",
      "      - Validating: \u001b[32mOK\u001b[0m\r\n"
     ]
    }
   ],
   "source": [
    "!jupyter nbextension enable --py widgetsnbextension\n",
    "#interactive web map package\n",
    "import folium \n",
    "from folium import features\n",
    "import shapefile\n",
    "from json import dumps\n",
    "from folium import plugins\n",
    "\n",
    "#Miscellanous\n",
    "from IPython.core.display import display #display inline package\n",
    "from ipywidgets import interact, interactive, fixed, FloatProgress\n",
    "import ipywidgets as widgets\n",
    "import pdb #debugging tool\n",
    "import pandas as pd # pandas dataframe package\n",
    "import pandas\n",
    "from datetime import datetime #date conversion tool\n",
    "from xlrd.xldate import xldate_as_tuple #xldate converter\n",
    "from urllib2 import urlopen #get data from web tool\n",
    "#from collections import OrderedDict\n",
    "import warnings\n",
    "warnings.filterwarnings('ignore')\n",
    "from IPython.display import Image\n",
    "import utm #lat long to utms\n",
    "import zipfile #unzip tool\n",
    "from IPython.display import clear_output\n",
    "from scipy.signal import correlate #rainfall correlation\n",
    "\n",
    "#numpy packages and tools\n",
    "import numpy as np\n",
    "from numpy import linspace\n",
    "from numpy.fft import fft, ifft, fft2, ifft2, fftshift\n",
    "\n",
    "#Spatial data packages\n",
    "import rasterio #io raster data \n",
    "#from osgeo import gdal\n",
    "\n",
    "#Plotly tools\n",
    "import plotly.tools as tls\n",
    "tls.set_credentials_file(username='NTPlotly', api_key='yViUde2xMRvWglgycSg4') #my plotly credentials (please dont use they cost me $$)\n",
    "import plotly.plotly as py\n",
    "#from plotly.graph_objs import *\n",
    "import plotly.graph_objs as go\n",
    "from plotly import tools\n",
    "import cufflinks as cf\n",
    "import matplotlib\n",
    "\n",
    "#scipy packages\n",
    "from scipy.misc import derivative #derivates of functions tool\n",
    "from scipy.interpolate import UnivariateSpline #basic spline fitting tool\n",
    "from scipy.signal import gaussian #gaussian filtering tool\n",
    "from scipy.ndimage import filters #anotehr filtering tool\n",
    "from scipy import stats #core scipy stats package\n",
    "from scipy.integrate import simps #simpsons rule package for trapezoid calcualtions in area under curve calcs\n",
    "\n",
    "#Basic math tools\n",
    "from math import log\n",
    "from math import factorial\n",
    "import random"
   ]
  },
  {
   "cell_type": "code",
   "execution_count": 3,
   "metadata": {},
   "outputs": [
    {
     "name": "stdout",
     "output_type": "stream",
     "text": [
      "Collecting cufflinks\n",
      "  Downloading cufflinks-0.12.0.tar.gz (48kB)\n",
      "\u001b[K    100% |████████████████████████████████| 51kB 1.8MB/s ta 0:00:01\n",
      "\u001b[?25hRequirement already satisfied: pandas in /opt/conda/envs/python2/lib/python2.7/site-packages (from cufflinks)\n",
      "Requirement already satisfied: plotly>=2.0.0 in /opt/conda/envs/python2/lib/python2.7/site-packages (from cufflinks)\n",
      "Collecting colorlover>=0.2 (from cufflinks)\n",
      "  Downloading colorlover-0.2.1.tar.gz\n",
      "Requirement already satisfied: python-dateutil in /opt/conda/envs/python2/lib/python2.7/site-packages (from pandas->cufflinks)\n",
      "Requirement already satisfied: pytz>=2011k in /opt/conda/envs/python2/lib/python2.7/site-packages (from pandas->cufflinks)\n",
      "Requirement already satisfied: numpy>=1.7.0 in /opt/conda/envs/python2/lib/python2.7/site-packages (from pandas->cufflinks)\n",
      "Requirement already satisfied: requests in /opt/conda/envs/python2/lib/python2.7/site-packages (from plotly>=2.0.0->cufflinks)\n",
      "Requirement already satisfied: six in /opt/conda/envs/python2/lib/python2.7/site-packages (from plotly>=2.0.0->cufflinks)\n",
      "Building wheels for collected packages: cufflinks, colorlover\n",
      "  Running setup.py bdist_wheel for cufflinks ... \u001b[?25ldone\n",
      "\u001b[?25h  Stored in directory: /home/jovyan/.cache/pip/wheels/1d/79/29/bb076c9ab0bd7a932c33e7b6c7eb5d00d84001076f16549ec0\n",
      "  Running setup.py bdist_wheel for colorlover ... \u001b[?25ldone\n",
      "\u001b[?25h  Stored in directory: /home/jovyan/.cache/pip/wheels/b8/b0/18/76d3f3088cc73950ed1aa44ea074b93ed37309fea57dec78dc\n",
      "Successfully built cufflinks colorlover\n",
      "Installing collected packages: colorlover, cufflinks\n",
      "Successfully installed colorlover-0.2.1 cufflinks-0.12.0\n"
     ]
    }
   ],
   "source": [
    "!pip install cufflinks"
   ]
  },
  {
   "cell_type": "markdown",
   "metadata": {
    "extensions": {
     "jupyter_dashboards": {
      "version": 1,
      "views": {
       "grid_default": {
        "col": 0,
        "height": 4,
        "hidden": true,
        "row": 105,
        "width": 12
       },
       "report_default": {
        "hidden": false
       }
      }
     }
    }
   },
   "source": [
    "####  Read data"
   ]
  },
  {
   "cell_type": "markdown",
   "metadata": {
    "extensions": {
     "jupyter_dashboards": {
      "version": 1,
      "views": {
       "grid_default": {
        "col": 0,
        "height": 4,
        "hidden": true,
        "row": 0,
        "width": 4
       },
       "report_default": {
        "hidden": false
       }
      }
     }
    }
   },
   "source": [
    "Read mulitband image and dates csv into memory"
   ]
  },
  {
   "cell_type": "code",
   "execution_count": 5,
   "metadata": {
    "collapsed": true,
    "extensions": {
     "jupyter_dashboards": {
      "version": 1,
      "views": {
       "grid_default": {
        "hidden": true
       },
       "report_default": {}
      }
     }
    }
   },
   "outputs": [],
   "source": [
    "def getOutputData(filename,pickleName,x,y):\n",
    "    \n",
    "    df = pd.read_csv(filename,header=0)\n",
    "    \n",
    "    df2 = pd.read_pickle(pickleName)\n",
    "    \n",
    "    #pdb.set_trace()\n",
    "    \n",
    "    modelledData = df.loc[(df[\"x\"] == x) & (df[\"y\"] == y)]\n",
    "    \n",
    "    dfV = df2.loc[(df2[\"x\"] == x) & (df2[\"y\"] == y)]\n",
    "    \n",
    "    dfV['dates'] = pandas.to_datetime(dfV['dates'])\n",
    "    \n",
    "    modelledData['sDate'] = pandas.to_datetime(modelledData['sDate'])\n",
    "    \n",
    "    modelledData['eDate'] = pandas.to_datetime(modelledData['eDate'])\n",
    "    \n",
    "    \n",
    "    \n",
    "    return dfV, modelledData   "
   ]
  },
  {
   "cell_type": "markdown",
   "metadata": {
    "extensions": {
     "jupyter_dashboards": {
      "version": 1,
      "views": {
       "grid_default": {
        "col": 0,
        "height": 4,
        "hidden": true,
        "row": 0,
        "width": 4
       },
       "report_default": {
        "hidden": false
       }
      }
     }
    }
   },
   "source": [
    "##### Peak and trough plotting"
   ]
  },
  {
   "cell_type": "code",
   "execution_count": 6,
   "metadata": {
    "collapsed": true,
    "extensions": {
     "jupyter_dashboards": {
      "version": 1,
      "views": {
       "grid_default": {
        "hidden": true
       },
       "report_default": {
        "hidden": true
       }
      }
     }
    }
   },
   "outputs": [],
   "source": [
    "def doPeakTroughPlots(df,modelledData):\n",
    "       \n",
    "    \n",
    "    plot = []\n",
    "    \n",
    "    annotations = []\n",
    "    \n",
    "    #pdb.set_trace()\n",
    "    \n",
    "    modelledData = modelledData.set_index(['index'])\n",
    "    \n",
    "    for i in modelledData.index:\n",
    "        \n",
    "        if i == 0:\n",
    "            \n",
    "            a = go.Scatter(x=df['dates'], y=df['fittedSpline']-100.0,name='NPV Spline',mode = 'lines', line = dict(color = ('rgb(1, 1, 1)'),width = 1))\n",
    "            \n",
    "            b = go.Scatter(x=df['dates'], y=df['npv']-100.0,name='NPV',mode = 'markers',marker = dict(color = ('rgb(1, 1, 1)'),size = 2,symbol='circle'))\n",
    "                 \n",
    "            \n",
    "            plot.append(a)\n",
    "            \n",
    "            plot.append(b)\n",
    "        \n",
    "        ind = modelledData.ix[i]\n",
    "        \n",
    "        #pdb.set_trace()\n",
    "        \n",
    "        minNpv = min(df['npv'])\n",
    "        \n",
    "        start = ind['sDate']\n",
    "        \n",
    "        end = ind['eDate']\n",
    "        \n",
    "        mask = (df['dates'] > start) & (df['dates'] <= end)\n",
    "        \n",
    "        sliced = df.loc[mask]\n",
    "                        \n",
    "        slicedLinStart = sliced.head(1)\n",
    "        \n",
    "        slicedLinEnd = sliced.tail(1)\n",
    "        \n",
    "        frames = [slicedLinStart,slicedLinEnd]\n",
    "        \n",
    "        result = pandas.concat(frames)\n",
    "        \n",
    "        \n",
    "                                       \n",
    "        st = str(start)\n",
    "        \n",
    "        st=st[:-9]\n",
    "        \n",
    "        ed = str(end)\n",
    "        \n",
    "        ed=ed[:-9]\n",
    "        \n",
    "        \n",
    "        slicedEnd = sliced['fittedSpline'].iloc[len(sliced)-1]\n",
    "        \n",
    "        #slicedEnd = slicedEnd-100\n",
    "        \n",
    "        sliced['fittedSplineBase'] = slicedEnd\n",
    "        \n",
    "        \n",
    "        #pdb.set_trace()\n",
    "        \n",
    "        #sln = go.Scatter(x=result['dates'],y=result['npv'], mode='line',line = dict(color = ('rgb(2, 2, 2)'),width = 5,),name=False)\n",
    "                \n",
    "         \n",
    "        if i == 0:\n",
    "            \n",
    "            #pdb.set_trace()\n",
    "            \n",
    "            slnFitted = go.Scatter(x=result['dates'],y=result['fittedSpline']-100.0, mode='lines',name='Slope',line = dict(color = ('rgb(1, 1, 1)'),width = 4),showlegend=True)\n",
    "                  \n",
    "            pl = go.Scatter(x=sliced['dates'],y=sliced['fittedSpline']-100.0, fill = 'tozeroy',name = 'Area under the curve (small-integral)',fillcolor=('rgb(200, 200, 200)'),mode='none',line=dict(width=0.5,\n",
    "              color='rgb(1, 1, 1)'),showlegend=True)\n",
    "            \n",
    "            pll = go.Scatter(x=sliced['dates'],y=sliced['fittedSplineBase']-100.0, fill = 'tozeroy',name = 'Area under the curve (large-integral)',fillcolor=('rgb(230, 230, 230)'),mode='none',line=dict(width=0.5,\n",
    "              color='rgb(1, 1, 1)'),showlegend=True)\n",
    "                       \n",
    "            \n",
    "            plot.append(pl)\n",
    "            \n",
    "            plot.append(slnFitted)\n",
    "            \n",
    "            plot.append(pll)\n",
    "                                    \n",
    "            annotations.append(dict(x=result['dates'].iloc[0],y=result['fittedSpline'].iloc[0]-100,xref='x',yref='y',text= 'Period ' + str(i),showarrow=True,arrowhead=7,ax=0,ay=-40))\n",
    "        \n",
    "        else:\n",
    "            \n",
    "            slnFitted = go.Scatter(x=result['dates'],y=result['fittedSpline']-100.0, mode='lines',name='Slope',line = dict(color = ('rgb(1, 1, 1)'),width = 4),showlegend=False)\n",
    "      \n",
    "                              \n",
    "            pl = go.Scatter(x=sliced['dates'],y=sliced['fittedSpline']-100.0, fill = 'tozeroy',fillcolor=('rgb(200, 200, 200)'),mode='none',line=dict(width=0.5,\n",
    "                  color='rgb(1, 1, 1)'),showlegend=False)\n",
    "            \n",
    "            pll = go.Scatter(x=sliced['dates'],y=sliced['fittedSplineBase']-100.0, fill = 'tozeroy',fillcolor=('rgb(230, 230, 230)'),mode='none',line=dict(width=0.5,\n",
    "              color='rgb(1, 1, 1)'),showlegend=False)\n",
    "\n",
    "            plot.append(pl)\n",
    "\n",
    "            plot.append(slnFitted)\n",
    "            \n",
    "            plot.append(pll)\n",
    "            \n",
    "            annotations.append(dict(x=result['dates'].iloc[0],y=result['fittedSpline'].iloc[0]-100,xref='x',yref='y',text= 'Period ' + str(i),showarrow=True,arrowhead=7,ax=0,ay=-40))\n",
    "                \n",
    "   \n",
    "    \n",
    "    \n",
    "    title = 'NPV time series'\n",
    "            \n",
    "    #layout = go.Layout(yaxis=dict(title='Non-Photosynthetic Vegetation Cover %'),xaxis=dict(title='Time'),font=dict(family='Arial, monospace', size=24, color = ('rgb(1, 1, 1)')))\n",
    "    \n",
    "    \n",
    "    layout = go.Layout(title=title,yaxis=dict(title='Non-Photosynthetic Vegetation Cover %',range=[minNpv-100, 100]),xaxis=dict(title='Time'),font=dict(family='Arial, monospace', size=14, color = ('rgb(1, 1, 1)')),annotations = annotations)\n",
    "      \n",
    "    fig = go.Figure(data=plot, layout=layout)\n",
    "    \n",
    "    #url = py.iplot(fig,filename=filename)\n",
    "    \n",
    "    #pdb.set_trace()\n",
    "    \n",
    "    return fig"
   ]
  },
  {
   "cell_type": "code",
   "execution_count": 7,
   "metadata": {
    "collapsed": true,
    "extensions": {
     "jupyter_dashboards": {
      "version": 1,
      "views": {
       "grid_default": {
        "hidden": true
       },
       "report_default": {
        "hidden": true
       }
      }
     }
    }
   },
   "outputs": [],
   "source": [
    "def doRescale(slopes,slopesF,auc,aucF,aucS):\n",
    "    \n",
    "    slopeRescaled = remap(slopes, min(slopes), max(slopes), 1, 100)\n",
    "\n",
    "    aucRescaled = remap(auc, min(auc), max(auc), 1, 100)\n",
    "        \n",
    "    slopeRescaledFit = remap(slopesF, min(slopesF), max(slopesF), 1, 100)\n",
    "\n",
    "    aucRescaledFit = remap(aucF, min(aucF), max(aucF), 1, 100)   \n",
    "    \n",
    "    aucSmallRescaledFit = remap(aucS, min(aucS), max(aucS), 1, 100)\n",
    "    \n",
    "    \n",
    "    return slopeRescaled,aucRescaled,slopeRescaledFit,aucRescaledFit,aucSmallRescaledFit"
   ]
  },
  {
   "cell_type": "code",
   "execution_count": 8,
   "metadata": {
    "collapsed": true,
    "extensions": {
     "jupyter_dashboards": {
      "version": 1,
      "views": {
       "grid_default": {
        "hidden": true
       },
       "report_default": {
        "hidden": true
       }
      }
     }
    }
   },
   "outputs": [],
   "source": [
    "def remap(x, oMin, oMax, nMin, nMax):\n",
    "\n",
    "    #check reversed input range\n",
    "    \n",
    "    reverseInput = False\n",
    "    \n",
    "    #pdb.set_trace()\n",
    "    \n",
    "    oldMin = min( oMin, oMax )\n",
    "    \n",
    "    oldMax = max( oMin, oMax )\n",
    "    \n",
    "    if not oldMin == oMin:\n",
    "    \n",
    "        reverseInput = True\n",
    "\n",
    "    #check reversed output range\n",
    "    \n",
    "    reverseOutput = False   \n",
    "    \n",
    "    newMin = min( nMin, nMax )\n",
    "    \n",
    "    newMax = max( nMin, nMax )\n",
    "    \n",
    "    if not newMin == nMin :\n",
    "    \n",
    "        reverseOutput = True\n",
    "\n",
    "    portion = (x-oldMin)*(newMax-newMin)/(oldMax-oldMin)\n",
    "    \n",
    "    if reverseInput:\n",
    "        \n",
    "        portion = (oldMax-x)*(newMax-newMin)/(oldMax-oldMin)\n",
    "\n",
    "    result = portion + newMin\n",
    "    \n",
    "    if reverseOutput:\n",
    "        \n",
    "        result = newMax - portion\n",
    "\n",
    "    return result"
   ]
  },
  {
   "cell_type": "markdown",
   "metadata": {
    "extensions": {
     "jupyter_dashboards": {
      "version": 1,
      "views": {
       "grid_default": {
        "col": 0,
        "height": 4,
        "hidden": true,
        "row": 0,
        "width": 4
       },
       "report_default": {
        "hidden": false
       }
      }
     }
    }
   },
   "source": [
    "##### Utilisation plotting"
   ]
  },
  {
   "cell_type": "code",
   "execution_count": 9,
   "metadata": {
    "collapsed": true,
    "extensions": {
     "jupyter_dashboards": {
      "version": 1,
      "views": {
       "grid_default": {
        "hidden": true
       },
       "report_default": {
        "hidden": true
       }
      }
     }
    }
   },
   "outputs": [],
   "source": [
    "def doLocationPlots(df,modelledData):\n",
    "     \n",
    "  \n",
    "    \n",
    "    newDf = df.set_index(['dates'])\n",
    "    \n",
    "    sDateSliced = newDf.ix[modelledData['sDate']]\n",
    "        \n",
    "    eDateSliced = newDf.ix[modelledData['eDate']] \n",
    "   \n",
    "        \n",
    "    trace1=[]\n",
    "    \n",
    "    trace1a = go.Scatter(x=df['dates'],y=df['fittedSpline']-100.0,name='NPV Spline',mode = 'lines', line = dict(color = ('rgb(1, 1, 1)'),width = 2))\n",
    "    \n",
    "    trace1.append(trace1a)\n",
    "    \n",
    "    trace1b = go.Scatter(x=modelledData['sDate'],y=sDateSliced['fittedSpline']-100.0,name='Peaks',mode = 'markers', marker = dict(color = ('rgb(1, 1, 1)'),size = 13,symbol='circle'))\n",
    "    \n",
    "    trace1.append(trace1b)\n",
    "    \n",
    "    trace1c = go.Scatter(x=modelledData['eDate'],y=eDateSliced['fittedSpline']-100.0,name='Troughs',mode = 'markers', marker = dict(color = ('rgb(1, 1, 1)'),size = 13,symbol='triangle-up'))\n",
    "   \n",
    "    trace1.append(trace1c)\n",
    "    \n",
    "    trace1d = go.Scatter(x=df['dates'],y=df['npv']-100.0,name='NPV',mode = 'markers', marker = dict(color = ('rgb(1, 1, 1)'),size = 1,symbol='circle'))\n",
    "    \n",
    "    trace1.append(trace1d)\n",
    "            \n",
    "    layout = go.Layout(yaxis=dict(title='Non-Photosynthetic Vegetation Cover %'),xaxis=dict(title='Time'),font=dict(family='Arial, monospace', size=14, color = ('rgb(1, 1, 1)')))\n",
    "      \n",
    "    fig = go.Figure(data=trace1, layout=layout)\n",
    "        \n",
    "    #peakUrl = py.iplot(fig,filename=filename)   \n",
    "    \n",
    "    #pdb.set_trace()\n",
    "    \n",
    "    return fig,trace1,layout"
   ]
  },
  {
   "cell_type": "code",
   "execution_count": 10,
   "metadata": {
    "collapsed": true,
    "extensions": {
     "jupyter_dashboards": {
      "version": 1,
      "views": {
       "grid_default": {
        "hidden": true
       },
       "report_default": {
        "hidden": true
       }
      }
     }
    }
   },
   "outputs": [],
   "source": [
    "def doXYPlot(x,y):\n",
    "        \n",
    "    dfV,modelledData = getOutputData(\"output.csv\",'outputTimeSeriesPk.pkl',x,y)\n",
    "    \n",
    "    locFig,data,layout = doLocationPlots(dfV,modelledData)\n",
    "\n",
    "    return locFig"
   ]
  },
  {
   "cell_type": "markdown",
   "metadata": {
    "extensions": {
     "jupyter_dashboards": {
      "version": 1,
      "views": {
       "grid_default": {
        "col": 7,
        "height": 4,
        "hidden": true,
        "row": 55,
        "width": 4
       },
       "report_default": {
        "hidden": false
       }
      }
     }
    }
   },
   "source": [
    "A function to plot (heatmap) the temporal average area under the curve along with the selected x and y coordinate"
   ]
  },
  {
   "cell_type": "code",
   "execution_count": 11,
   "metadata": {
    "collapsed": true,
    "extensions": {
     "jupyter_dashboards": {
      "version": 1,
      "views": {
       "grid_default": {
        "hidden": true
       },
       "report_default": {
        "hidden": true
       }
      }
     }
    }
   },
   "outputs": [],
   "source": [
    "#Function that is fired when the download button is clicked\n",
    "def on_button_clickedPeakTrough(b):\n",
    "    \n",
    "    y = row.value\n",
    "    \n",
    "    x = col.value\n",
    "            \n",
    "    figPlot = doXYPlot(int(x),int(y))\n",
    "    \n",
    "    filename1 = \"researchProject/peakTroughs1\"\n",
    "    \n",
    "    peakPlot = py.iplot(figPlot, filename=filename1)\n",
    "        \n",
    "    display(peakPlot)\n",
    "    "
   ]
  },
  {
   "cell_type": "markdown",
   "metadata": {
    "extensions": {
     "jupyter_dashboards": {
      "version": 1,
      "views": {
       "grid_default": {
        "col": 0,
        "height": 4,
        "hidden": true,
        "row": 59,
        "width": 4
       },
       "report_default": {
        "hidden": false
       }
      }
     }
    }
   },
   "source": [
    "Text box's for x and y corrdinates"
   ]
  },
  {
   "cell_type": "code",
   "execution_count": 12,
   "metadata": {
    "extensions": {
     "jupyter_dashboards": {
      "version": 1,
      "views": {
       "grid_default": {
        "col": 5,
        "height": 3,
        "hidden": false,
        "row": 2,
        "width": 5
       },
       "report_default": {
        "hidden": true
       }
      }
     }
    }
   },
   "outputs": [
    {
     "data": {
      "application/vnd.jupyter.widget-view+json": {
       "model_id": "e5569b1be4b846aa9d8f55e216e64b91"
      }
     },
     "metadata": {},
     "output_type": "display_data"
    },
    {
     "data": {
      "application/vnd.jupyter.widget-view+json": {
       "model_id": "d0e0a007faa344ca886f082bff785484"
      }
     },
     "metadata": {},
     "output_type": "display_data"
    }
   ],
   "source": [
    "row = widgets.Text(description=\"y:(0-67)\")\n",
    "col = widgets.Text(description=\"x:(0-67)\")\n",
    "row.value = '5'\n",
    "col.value = '5'\n",
    "display(row)\n",
    "display(col)"
   ]
  },
  {
   "cell_type": "markdown",
   "metadata": {
    "extensions": {
     "jupyter_dashboards": {
      "version": 1,
      "views": {
       "grid_default": {
        "col": 4,
        "height": 4,
        "hidden": true,
        "row": 57,
        "width": 4
       },
       "report_default": {
        "hidden": false
       }
      }
     }
    }
   },
   "source": [
    "Bottons for the coordinate and plot displays"
   ]
  },
  {
   "cell_type": "code",
   "execution_count": 13,
   "metadata": {
    "extensions": {
     "jupyter_dashboards": {
      "version": 1,
      "views": {
       "grid_default": {
        "col": 0,
        "height": 20,
        "hidden": false,
        "row": 7,
        "width": 12
       },
       "report_default": {
        "hidden": true
       }
      }
     }
    }
   },
   "outputs": [
    {
     "data": {
      "application/vnd.jupyter.widget-view+json": {
       "model_id": "d84aee84e67a4f2e96ed3896afa1a935"
      }
     },
     "metadata": {},
     "output_type": "display_data"
    },
    {
     "ename": "IOError",
     "evalue": "[Errno 2] No such file or directory: 'outputTimeSeriesPk.pkl'",
     "output_type": "error",
     "traceback": [
      "\u001b[1;31m---------------------------------------------------------------------------\u001b[0m",
      "\u001b[1;31mIOError\u001b[0m                                   Traceback (most recent call last)",
      "\u001b[1;32m<ipython-input-11-dae14d9cbcab>\u001b[0m in \u001b[0;36mon_button_clickedPeakTrough\u001b[1;34m(b)\u001b[0m\n\u001b[0;32m      6\u001b[0m     \u001b[0mx\u001b[0m \u001b[1;33m=\u001b[0m \u001b[0mcol\u001b[0m\u001b[1;33m.\u001b[0m\u001b[0mvalue\u001b[0m\u001b[1;33m\u001b[0m\u001b[0m\n\u001b[0;32m      7\u001b[0m \u001b[1;33m\u001b[0m\u001b[0m\n\u001b[1;32m----> 8\u001b[1;33m     \u001b[0mfigPlot\u001b[0m \u001b[1;33m=\u001b[0m \u001b[0mdoXYPlot\u001b[0m\u001b[1;33m(\u001b[0m\u001b[0mint\u001b[0m\u001b[1;33m(\u001b[0m\u001b[0mx\u001b[0m\u001b[1;33m)\u001b[0m\u001b[1;33m,\u001b[0m\u001b[0mint\u001b[0m\u001b[1;33m(\u001b[0m\u001b[0my\u001b[0m\u001b[1;33m)\u001b[0m\u001b[1;33m)\u001b[0m\u001b[1;33m\u001b[0m\u001b[0m\n\u001b[0m\u001b[0;32m      9\u001b[0m \u001b[1;33m\u001b[0m\u001b[0m\n\u001b[0;32m     10\u001b[0m     \u001b[0mfilename1\u001b[0m \u001b[1;33m=\u001b[0m \u001b[1;34m\"researchProject/peakTroughs1\"\u001b[0m\u001b[1;33m\u001b[0m\u001b[0m\n",
      "\u001b[1;32m<ipython-input-10-b14ad546e657>\u001b[0m in \u001b[0;36mdoXYPlot\u001b[1;34m(x, y)\u001b[0m\n\u001b[0;32m      1\u001b[0m \u001b[1;32mdef\u001b[0m \u001b[0mdoXYPlot\u001b[0m\u001b[1;33m(\u001b[0m\u001b[0mx\u001b[0m\u001b[1;33m,\u001b[0m\u001b[0my\u001b[0m\u001b[1;33m)\u001b[0m\u001b[1;33m:\u001b[0m\u001b[1;33m\u001b[0m\u001b[0m\n\u001b[0;32m      2\u001b[0m \u001b[1;33m\u001b[0m\u001b[0m\n\u001b[1;32m----> 3\u001b[1;33m     \u001b[0mdfV\u001b[0m\u001b[1;33m,\u001b[0m\u001b[0mmodelledData\u001b[0m \u001b[1;33m=\u001b[0m \u001b[0mgetOutputData\u001b[0m\u001b[1;33m(\u001b[0m\u001b[1;34m\"output.csv\"\u001b[0m\u001b[1;33m,\u001b[0m\u001b[1;34m'outputTimeSeriesPk.pkl'\u001b[0m\u001b[1;33m,\u001b[0m\u001b[0mx\u001b[0m\u001b[1;33m,\u001b[0m\u001b[0my\u001b[0m\u001b[1;33m)\u001b[0m\u001b[1;33m\u001b[0m\u001b[0m\n\u001b[0m\u001b[0;32m      4\u001b[0m \u001b[1;33m\u001b[0m\u001b[0m\n\u001b[0;32m      5\u001b[0m     \u001b[0mlocFig\u001b[0m\u001b[1;33m,\u001b[0m\u001b[0mdata\u001b[0m\u001b[1;33m,\u001b[0m\u001b[0mlayout\u001b[0m \u001b[1;33m=\u001b[0m \u001b[0mdoLocationPlots\u001b[0m\u001b[1;33m(\u001b[0m\u001b[0mdfV\u001b[0m\u001b[1;33m,\u001b[0m\u001b[0mmodelledData\u001b[0m\u001b[1;33m)\u001b[0m\u001b[1;33m\u001b[0m\u001b[0m\n",
      "\u001b[1;32m<ipython-input-5-f3b5791f473b>\u001b[0m in \u001b[0;36mgetOutputData\u001b[1;34m(filename, pickleName, x, y)\u001b[0m\n\u001b[0;32m      3\u001b[0m     \u001b[0mdf\u001b[0m \u001b[1;33m=\u001b[0m \u001b[0mpd\u001b[0m\u001b[1;33m.\u001b[0m\u001b[0mread_csv\u001b[0m\u001b[1;33m(\u001b[0m\u001b[0mfilename\u001b[0m\u001b[1;33m,\u001b[0m\u001b[0mheader\u001b[0m\u001b[1;33m=\u001b[0m\u001b[1;36m0\u001b[0m\u001b[1;33m)\u001b[0m\u001b[1;33m\u001b[0m\u001b[0m\n\u001b[0;32m      4\u001b[0m \u001b[1;33m\u001b[0m\u001b[0m\n\u001b[1;32m----> 5\u001b[1;33m     \u001b[0mdf2\u001b[0m \u001b[1;33m=\u001b[0m \u001b[0mpd\u001b[0m\u001b[1;33m.\u001b[0m\u001b[0mread_pickle\u001b[0m\u001b[1;33m(\u001b[0m\u001b[0mpickleName\u001b[0m\u001b[1;33m)\u001b[0m\u001b[1;33m\u001b[0m\u001b[0m\n\u001b[0m\u001b[0;32m      6\u001b[0m \u001b[1;33m\u001b[0m\u001b[0m\n\u001b[0;32m      7\u001b[0m     \u001b[1;31m#pdb.set_trace()\u001b[0m\u001b[1;33m\u001b[0m\u001b[1;33m\u001b[0m\u001b[0m\n",
      "\u001b[1;32m/opt/conda/envs/python2/lib/python2.7/site-packages/pandas/io/pickle.pyc\u001b[0m in \u001b[0;36mread_pickle\u001b[1;34m(path)\u001b[0m\n\u001b[0;32m     63\u001b[0m \u001b[1;33m\u001b[0m\u001b[0m\n\u001b[0;32m     64\u001b[0m     \u001b[1;32mtry\u001b[0m\u001b[1;33m:\u001b[0m\u001b[1;33m\u001b[0m\u001b[0m\n\u001b[1;32m---> 65\u001b[1;33m         \u001b[1;32mreturn\u001b[0m \u001b[0mtry_read\u001b[0m\u001b[1;33m(\u001b[0m\u001b[0mpath\u001b[0m\u001b[1;33m)\u001b[0m\u001b[1;33m\u001b[0m\u001b[0m\n\u001b[0m\u001b[0;32m     66\u001b[0m     \u001b[1;32mexcept\u001b[0m\u001b[1;33m:\u001b[0m\u001b[1;33m\u001b[0m\u001b[0m\n\u001b[0;32m     67\u001b[0m         \u001b[1;32mif\u001b[0m \u001b[0mPY3\u001b[0m\u001b[1;33m:\u001b[0m\u001b[1;33m\u001b[0m\u001b[0m\n",
      "\u001b[1;32m/opt/conda/envs/python2/lib/python2.7/site-packages/pandas/io/pickle.pyc\u001b[0m in \u001b[0;36mtry_read\u001b[1;34m(path, encoding)\u001b[0m\n\u001b[0;32m     59\u001b[0m             \u001b[1;31m# compat pickle\u001b[0m\u001b[1;33m\u001b[0m\u001b[1;33m\u001b[0m\u001b[0m\n\u001b[0;32m     60\u001b[0m             \u001b[1;32mexcept\u001b[0m\u001b[1;33m:\u001b[0m\u001b[1;33m\u001b[0m\u001b[0m\n\u001b[1;32m---> 61\u001b[1;33m                 \u001b[1;32mwith\u001b[0m \u001b[0mopen\u001b[0m\u001b[1;33m(\u001b[0m\u001b[0mpath\u001b[0m\u001b[1;33m,\u001b[0m \u001b[1;34m'rb'\u001b[0m\u001b[1;33m)\u001b[0m \u001b[1;32mas\u001b[0m \u001b[0mfh\u001b[0m\u001b[1;33m:\u001b[0m\u001b[1;33m\u001b[0m\u001b[0m\n\u001b[0m\u001b[0;32m     62\u001b[0m                     \u001b[1;32mreturn\u001b[0m \u001b[0mpc\u001b[0m\u001b[1;33m.\u001b[0m\u001b[0mload\u001b[0m\u001b[1;33m(\u001b[0m\u001b[0mfh\u001b[0m\u001b[1;33m,\u001b[0m \u001b[0mencoding\u001b[0m\u001b[1;33m=\u001b[0m\u001b[0mencoding\u001b[0m\u001b[1;33m,\u001b[0m \u001b[0mcompat\u001b[0m\u001b[1;33m=\u001b[0m\u001b[0mTrue\u001b[0m\u001b[1;33m)\u001b[0m\u001b[1;33m\u001b[0m\u001b[0m\n\u001b[0;32m     63\u001b[0m \u001b[1;33m\u001b[0m\u001b[0m\n",
      "\u001b[1;31mIOError\u001b[0m: [Errno 2] No such file or directory: 'outputTimeSeriesPk.pkl'"
     ]
    }
   ],
   "source": [
    "# Click download to import geotif image and csv date files to local directory\n",
    "button = widgets.Button(description=\"Peak trough plot\")\n",
    "display(button)\n",
    "button.on_click(on_button_clickedPeakTrough)"
   ]
  },
  {
   "cell_type": "code",
   "execution_count": 29,
   "metadata": {
    "collapsed": true
   },
   "outputs": [],
   "source": [
    "#on_button_clickedPeakTrough('a')"
   ]
  },
  {
   "cell_type": "markdown",
   "metadata": {
    "extensions": {
     "jupyter_dashboards": {
      "version": 1,
      "views": {
       "grid_default": {
        "col": 8,
        "height": 4,
        "hidden": true,
        "row": 55,
        "width": 4
       },
       "report_default": {
        "hidden": false
       }
      }
     }
    }
   },
   "source": [
    "Map of field site and image extent with high res imagery background"
   ]
  },
  {
   "cell_type": "code",
   "execution_count": 30,
   "metadata": {
    "collapsed": true,
    "extensions": {
     "jupyter_dashboards": {
      "version": 1,
      "views": {
       "grid_default": {
        "hidden": true
       },
       "report_default": {
        "hidden": true
       }
      }
     }
    }
   },
   "outputs": [],
   "source": [
    "def worldImagery(location,site,df):\n",
    "\n",
    "    m = folium.Map(location=location)\n",
    "\n",
    "    url = 'http://services.arcgisonline.com/arcgis/rest/services/World_Imagery/MapServer/MapServer/tile/{z}/{y}/{x}'\n",
    "\n",
    "    m.add_tile_layer(tile_name=\"World_Imagery\",tile_url=url, attr =\"world imagery\" )\n",
    "    \n",
    "    folium.Marker([location[0], location[1]], popup=site).add_to(m)\n",
    "    \n",
    "    coords = makeSceneBound(location)\n",
    "    \n",
    "    #pdb.set_trace()\n",
    "    \n",
    "    my_PolyLine=folium.PolyLine(locations=coords,weight=5)\n",
    "\n",
    "    m.add_children(my_PolyLine)   \n",
    "    \n",
    "    sw = list(coords[3])\n",
    "    \n",
    "    ne = list(coords[1])\n",
    "    \n",
    "    m.fit_bounds([sw,ne])\n",
    "       \n",
    "    return m,coords"
   ]
  },
  {
   "cell_type": "code",
   "execution_count": 31,
   "metadata": {
    "collapsed": true,
    "extensions": {
     "jupyter_dashboards": {
      "version": 1,
      "views": {
       "grid_default": {
        "hidden": true
       },
       "report_default": {
        "hidden": true
       }
      }
     }
    }
   },
   "outputs": [],
   "source": [
    "def getSiteLatLon(site,df):\n",
    "        \n",
    "    \n",
    "    mask = df['sites'] == site\n",
    "    \n",
    "    lat = df['lat'][mask]\n",
    "    \n",
    "    lat = lat.iloc[0]\n",
    "    \n",
    "    longt = df['longt'][mask]\n",
    "    \n",
    "    longt = longt.iloc[0]\n",
    "    \n",
    "    return lat,longt\n",
    "    "
   ]
  },
  {
   "cell_type": "code",
   "execution_count": 32,
   "metadata": {
    "collapsed": true,
    "extensions": {
     "jupyter_dashboards": {
      "version": 1,
      "views": {
       "grid_default": {
        "hidden": true
       },
       "report_default": {
        "hidden": true
       }
      }
     }
    }
   },
   "outputs": [],
   "source": [
    "def makeSceneBound(location):\n",
    "    \n",
    "    utms = utm.from_latlon(location[0],location[1])\n",
    "    \n",
    "    north = utms[1]\n",
    "    \n",
    "    east = utms[0]\n",
    "    \n",
    "    trE = east + 1000\n",
    "    \n",
    "    trN = north + 1000\n",
    "    \n",
    "    trU = utm.to_latlon(trE,trN,utms[2],utms[3])\n",
    "    \n",
    "    tlE = east - 1000\n",
    "    \n",
    "    tlN = north + 1000\n",
    "    \n",
    "    tlU = utm.to_latlon(tlE,tlN,utms[2],utms[3])\n",
    "    \n",
    "    brE = east + 1000\n",
    "    \n",
    "    brN = north - 1000\n",
    "    \n",
    "    brU = utm.to_latlon(brE,brN,utms[2],utms[3])\n",
    "    \n",
    "    blE = east - 1000\n",
    "    \n",
    "    blN = north - 1000\n",
    "    \n",
    "    blU = utm.to_latlon(blE,blN,utms[2],utms[3])\n",
    "    \n",
    "    coords = [tlU,trU,brU,blU,tlU]\n",
    "    \n",
    "    return coords\n",
    "    "
   ]
  },
  {
   "cell_type": "code",
   "execution_count": null,
   "metadata": {
    "collapsed": true,
    "extensions": {
     "jupyter_dashboards": {
      "version": 1,
      "views": {
       "grid_default": {
        "hidden": true
       },
       "report_default": {}
      }
     }
    }
   },
   "outputs": [],
   "source": []
  },
  {
   "cell_type": "code",
   "execution_count": 33,
   "metadata": {
    "extensions": {
     "jupyter_dashboards": {
      "version": 1,
      "views": {
       "grid_default": {
        "col": 0,
        "height": 3,
        "hidden": false,
        "row": 2,
        "width": 4
       },
       "report_default": {}
      }
     }
    }
   },
   "outputs": [
    {
     "data": {
      "application/vnd.jupyter.widget-view+json": {
       "model_id": "9f7c878882014e0f98678416f5b47508"
      }
     },
     "metadata": {},
     "output_type": "display_data"
    }
   ],
   "source": [
    "#Enter siteId from map exactly as it is displayed ie. 'hmd20' or 'bsp14a'\n",
    "text = widgets.Text(description=\"Site Id from map\")\n",
    "display(text)"
   ]
  },
  {
   "cell_type": "code",
   "execution_count": 36,
   "metadata": {
    "collapsed": true,
    "extensions": {
     "jupyter_dashboards": {
      "version": 1,
      "views": {
       "grid_default": {
        "hidden": true
       },
       "report_default": {
        "hidden": true
       }
      }
     }
    }
   },
   "outputs": [],
   "source": [
    "#Function that is fired when the download button is clicked\n",
    "def on_button_clickedPlotC(b):\n",
    "    \n",
    "    #site = text.value\n",
    "    \n",
    "    site = 'nhv03'\n",
    "    \n",
    "    \n",
    "    df = pd.read_csv('siteDetails.csv')\n",
    "    \n",
    "    lat,longt = getSiteLatLon(site,df)\n",
    "    location=[lat,longt]\n",
    "    m,coords = worldImagery(location,site,df)\n",
    "            \n",
    "    display(m)\n",
    "    \n",
    "    return m,coords\n",
    "    "
   ]
  },
  {
   "cell_type": "code",
   "execution_count": 39,
   "metadata": {
    "collapsed": true
   },
   "outputs": [],
   "source": [
    "#on_button_clickedPlotC('a')"
   ]
  },
  {
   "cell_type": "code",
   "execution_count": 38,
   "metadata": {
    "extensions": {
     "jupyter_dashboards": {
      "version": 1,
      "views": {
       "grid_default": {
        "col": 5,
        "height": 28,
        "hidden": true,
        "row": 2,
        "width": 7
       },
       "report_default": {
        "hidden": true
       }
      }
     }
    }
   },
   "outputs": [
    {
     "data": {
      "application/vnd.jupyter.widget-view+json": {
       "model_id": "654e9365a2994e3daa06bb51cda72ede"
      }
     },
     "metadata": {},
     "output_type": "display_data"
    },
    {
     "data": {
      "text/html": [
       "<div style=\"width:100%;\"><div style=\"position:relative;width:100%;height:0;padding-bottom:60%;\"><iframe src=\"data:text/html;base64,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\" style=\"position:absolute;width:100%;height:100%;left:0;top:0;\"></iframe></div></div>"
      ],
      "text/plain": [
       "<folium.folium.Map at 0x7f483fd80110>"
      ]
     },
     "metadata": {},
     "output_type": "display_data"
    },
    {
     "data": {
      "text/html": [
       "<div style=\"width:100%;\"><div style=\"position:relative;width:100%;height:0;padding-bottom:60%;\"><iframe src=\"data:text/html;base64,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\" style=\"position:absolute;width:100%;height:100%;left:0;top:0;\"></iframe></div></div>"
      ],
      "text/plain": [
       "<folium.folium.Map at 0x7f483f6c4e10>"
      ]
     },
     "metadata": {},
     "output_type": "display_data"
    }
   ],
   "source": [
    "# Click download to import geotif image and csv date files to local directory\n",
    "button = widgets.Button(description=\"Site map\")\n",
    "display(button)\n",
    "button.on_click(on_button_clickedPlotC)"
   ]
  },
  {
   "cell_type": "markdown",
   "metadata": {
    "extensions": {
     "jupyter_dashboards": {
      "version": 1,
      "views": {
       "grid_default": {
        "col": 4,
        "height": 4,
        "hidden": true,
        "row": 0,
        "width": 4
       },
       "report_default": {
        "hidden": false
       }
      }
     }
    }
   },
   "source": [
    "#### 3.2.2. Utilisation periods"
   ]
  },
  {
   "cell_type": "code",
   "execution_count": 40,
   "metadata": {
    "collapsed": true,
    "extensions": {
     "jupyter_dashboards": {
      "version": 1,
      "views": {
       "grid_default": {
        "hidden": true
       },
       "report_default": {
        "hidden": true
       }
      }
     }
    }
   },
   "outputs": [],
   "source": [
    "def doUtilisationPlots():\n",
    "    \n",
    "    y = row.value\n",
    "    \n",
    "    x = col.value     \n",
    "    \n",
    "    dfV,modelledData = getOutputData(\"output.csv\",'outputTimeSeriesPk.pkl',int(x),int(y))\n",
    "    \n",
    "    fig = doPeakTroughPlots(dfV,modelledData)\n",
    "           \n",
    "    return fig     "
   ]
  },
  {
   "cell_type": "code",
   "execution_count": 41,
   "metadata": {
    "collapsed": true,
    "extensions": {
     "jupyter_dashboards": {
      "version": 1,
      "views": {
       "grid_default": {
        "hidden": true
       },
       "report_default": {
        "hidden": true
       }
      }
     }
    }
   },
   "outputs": [],
   "source": [
    "#Function that is fired when the download button is clicked\n",
    "def on_button_clickedPlotD(b):   \n",
    "    \n",
    "    figPlot = doUtilisationPlots()\n",
    "    \n",
    "    filename1 = \"researchProject/utilisation\"\n",
    "    \n",
    "    utiliPlot = py.iplot(figPlot, filename=filename1)\n",
    "        \n",
    "    display(utiliPlot)"
   ]
  },
  {
   "cell_type": "code",
   "execution_count": 42,
   "metadata": {
    "extensions": {
     "jupyter_dashboards": {
      "version": 1,
      "views": {
       "grid_default": {
        "col": 0,
        "height": 20,
        "hidden": false,
        "row": 29,
        "width": 12
       },
       "report_default": {
        "hidden": true
       }
      }
     }
    }
   },
   "outputs": [
    {
     "data": {
      "application/vnd.jupyter.widget-view+json": {
       "model_id": "11f7680ad23249c3b10c045834242826"
      }
     },
     "metadata": {},
     "output_type": "display_data"
    },
    {
     "data": {
      "text/html": [
       "<iframe id=\"igraph\" scrolling=\"no\" style=\"border:none;\" seamless=\"seamless\" src=\"https://plot.ly/~NTPlotly/1325.embed\" height=\"525px\" width=\"100%\"></iframe>"
      ],
      "text/plain": [
       "<plotly.tools.PlotlyDisplay object>"
      ]
     },
     "metadata": {},
     "output_type": "display_data"
    }
   ],
   "source": [
    "# Click download to import geotif image and csv date files to local directory\n",
    "button = widgets.Button(description=\"Site Utilisation plot\")\n",
    "display(button)\n",
    "button.on_click(on_button_clickedPlotD)"
   ]
  },
  {
   "cell_type": "code",
   "execution_count": 56,
   "metadata": {
    "collapsed": true,
    "extensions": {
     "jupyter_dashboards": {
      "version": 1,
      "views": {
       "grid_default": {
        "hidden": true
       },
       "report_default": {}
      }
     }
    }
   },
   "outputs": [],
   "source": [
    "def doUtilisationImage(period,x,y):  \n",
    "    \n",
    "    #pdb.set_trace()\n",
    "    \n",
    "    print str(period)\n",
    "           \n",
    "    data = pd.read_csv('output.csv')\n",
    "    \n",
    "    sliced = data.loc[data['index'] == period]\n",
    "    \n",
    "    #needs a window to account for when the chosen x y is null.\n",
    "    \n",
    "    tlx = x-1\n",
    "    \n",
    "    tly = y-1\n",
    "    \n",
    "    tmx = x\n",
    "    \n",
    "    tmy = y-1\n",
    "    \n",
    "    trx = x+1\n",
    "    \n",
    "    tRy = y-1\n",
    "    \n",
    "    clx = x -1\n",
    "    \n",
    "    cly = y \n",
    "    \n",
    "    cx = x\n",
    "    \n",
    "    cy = y\n",
    "    \n",
    "    crx = x+1\n",
    "    \n",
    "    cry = y\n",
    "    \n",
    "    blx = x-1\n",
    "    \n",
    "    bly = y +1\n",
    "    \n",
    "    bmx = x\n",
    "    \n",
    "    bmy = y+1\n",
    "    \n",
    "    brx = x + 1\n",
    "    \n",
    "    bry = y + 1\n",
    "    \n",
    "    #pdb.set_trace()\n",
    "    \n",
    "    xWindow = [tlx,tmx,trx,clx,cx,crx,blx,bmx,brx]\n",
    "    \n",
    "    yWindow = [tly,tmy,tRy,cly,cy,cry,bly,bmy,bry]\n",
    "    \n",
    "    wind = pd.DataFrame()\n",
    "    \n",
    "    for ii in range(len(xWindow)):\n",
    "        \n",
    "        xSlice = sliced.loc[sliced['x']==xWindow[ii]]\n",
    "        \n",
    "        ySlice = xSlice.loc[xSlice['y']==yWindow[ii]]\n",
    "        \n",
    "        wind = pd.concat([wind,ySlice])  \n",
    "    \n",
    "    if wind.empty == True:\n",
    "        \n",
    "        raise Exception(\"no data\")\n",
    "    \n",
    "    else:        \n",
    "        \n",
    "        \n",
    "        start = wind['sDate'].iloc[0] \n",
    "\n",
    "        #end = wind['eDate'].iloc[0] \n",
    "\n",
    "        aucFBig = np.zeros((67,67))\n",
    "\n",
    "        aucFSmall = np.zeros((67,67))\n",
    "\n",
    "        slope = np.zeros((67,67))\n",
    "\n",
    "        for i in range(67):\n",
    "\n",
    "            #print i\n",
    "\n",
    "            #i = 14\n",
    "\n",
    "            for j in range(67):\n",
    "\n",
    "                #print j\n",
    "\n",
    "                #j = 23\n",
    "\n",
    "                part1 = data.loc[data['x']==i] # slice data on row i\n",
    "\n",
    "                part2 = part1.loc[part1['y']==j] # slice data on row i and col j\n",
    "\n",
    "                #pdb.set_trace()          \n",
    "\n",
    "\n",
    "\n",
    "                test = sum(part2['npv'])\n",
    "\n",
    "                if test == 0:\n",
    "\n",
    "                    aucFBig[j,i] = np.nan\n",
    "\n",
    "                    aucFSmall[j,i] = np.nan\n",
    "\n",
    "                    slope[j,i] = np.nan\n",
    "\n",
    "                else:\n",
    "\n",
    "                    closest = nearestDate(pd.to_datetime(start), pd.to_datetime(part2['sDate']))\n",
    "\n",
    "                    mask = pd.to_datetime(part2['sDate']) == closest\n",
    "\n",
    "                    match = part2[mask]\n",
    "\n",
    "                    aucFBig[j,i] = match['aucFUSc']\n",
    "\n",
    "                    aucFSmall[j,i] = match['aucSUSc']\n",
    "\n",
    "                    slope[j,i] = match['slopeFUsc']\n",
    "\n",
    "        #pdb.set_trace()\n",
    "        \n",
    "        aucFBig[aucFBig<=0]=np.nan\n",
    "\n",
    "        aucFSmall[aucFSmall<=0]=np.nan\n",
    "\n",
    "        slope[slope==0]=np.nan\n",
    "\n",
    "        rescaledBig = remap(aucFBig, np.nanmin(aucFBig), np.nanmax(aucFBig), 0, 100)\n",
    "\n",
    "        rescaledSmall = remap(aucFSmall, np.nanmin(aucFSmall), np.nanmax(aucFSmall), 0, 100)\n",
    "\n",
    "        rescaledSlope  = remap(slope, np.nanmin(slope), np.nanmax(slope), 0, 100)\n",
    "\n",
    "        return  rescaledBig, rescaledSmall, rescaledSlope"
   ]
  },
  {
   "cell_type": "code",
   "execution_count": 44,
   "metadata": {
    "collapsed": true,
    "extensions": {
     "jupyter_dashboards": {
      "version": 1,
      "views": {
       "grid_default": {
        "hidden": true
       },
       "report_default": {}
      }
     }
    }
   },
   "outputs": [],
   "source": [
    "#simple function to find the closest date in a list of dates, i.e. find the closest image date to a monthly rainfall date\n",
    "def nearestDate(base, dates):\n",
    "    \n",
    "    #pdb.set_trace()\n",
    "        \n",
    "    nearness = { abs(base - date) : date for date in dates }\n",
    "    \n",
    "    return nearness[min(nearness.keys())]"
   ]
  },
  {
   "cell_type": "code",
   "execution_count": 54,
   "metadata": {
    "collapsed": true,
    "extensions": {
     "jupyter_dashboards": {
      "version": 1,
      "views": {
       "grid_default": {
        "hidden": true
       },
       "report_default": {}
      }
     }
    }
   },
   "outputs": [],
   "source": [
    "def doColourMapping(image,cType,opac,period):\n",
    "    \n",
    "    #pdb.set_trace()\n",
    "    \n",
    "    newImage = image.astype(np.float32)\n",
    "    \n",
    "    src = rasterio.open('chip.tif')\n",
    "    \n",
    "    meta = src.meta    \n",
    "    \n",
    "    if cType == 'single':\n",
    "           \n",
    "        with rasterio.open('single' + str(period) + '.tif', 'w', **meta) as dst:\n",
    "\n",
    "            dst.write_band(1,newImage)\n",
    "\n",
    "            clrTbl = {}\n",
    "\n",
    "            table = []\n",
    "\n",
    "            for i in range(200):\n",
    "\n",
    "                if i < 100:\n",
    "\n",
    "                    red = 165 + i + 1\n",
    "\n",
    "                    green = i + 2\n",
    "\n",
    "                    blue = 38 + i + 1\n",
    "\n",
    "                elif i >100:\n",
    "\n",
    "                    red = 224 - i + 1\n",
    "\n",
    "                    green = 243 - i + 2\n",
    "\n",
    "                    blue = 248 - i + 3\n",
    "\n",
    "                colour = (red,green,blue,opac) \n",
    "\n",
    "                clrTbl[i] = colour\n",
    "\n",
    "            #pdb.set_trace()\n",
    "            \n",
    "            dst.write_colormap(1,clrTbl)\n",
    "   \n",
    "    "
   ]
  },
  {
   "cell_type": "code",
   "execution_count": 46,
   "metadata": {
    "collapsed": true,
    "extensions": {
     "jupyter_dashboards": {
      "version": 1,
      "views": {
       "grid_default": {
        "hidden": true
       },
       "report_default": {}
      }
     }
    }
   },
   "outputs": [],
   "source": [
    "def doHeatmap(array,x,y,title):\n",
    "           \n",
    "    data = np.flipud(array) #flip array prior to convert to a list, this is needed for when heatmap plots rows and columns    \n",
    "    \n",
    "    #pdb.set_trace()\n",
    "   \n",
    "    df4 = pandas.DataFrame(data)\n",
    "       \n",
    "    #colorscale=[[0.0, 'rgb(165,0,38)'], [0.1111111111111111, 'rgb(215,48,39)'], [0.2222222222222222, 'rgb(244,109,67)'], [0.3333333333333333, 'rgb(253,174,97)'], [0.4444444444444444, 'rgb(254,224,144)'], [0.5555555555555556, 'rgb(224,243,248)'], [0.6666666666666666, 'rgb(171,217,233)'], [0.7777777777777778, 'rgb(116,173,209)'], [0.8888888888888888, 'rgb(69,117,180)'], [1.0, 'rgb(49,54,149)']]\n",
    "    \n",
    "    colorscale=[[0.0, 'rgb(49,54,149)'], [0.1111111111111111, 'rgb(69,117,180)'], [0.2222222222222222, 'rgb(116,173,209)'], [0.3333333333333333, 'rgb(171,217,233)'], [0.4444444444444444, 'rgb(254,224,144)'], [0.5555555555555556, 'rgb(224,243,248)'], [0.6666666666666666, 'rgb(165,0,38)'], [0.7777777777777778, 'rgb(215,48,39)'], [0.8888888888888888, 'rgb(244,109,67)'], [1.0, 'rgb(253,174,97)']]\n",
    "    \n",
    "    \n",
    "    \n",
    "    data = [go.Heatmap(z=df4.values.tolist(), colorscale=colorscale),go.Scatter(x=x,y=y,mode = 'markers',marker = dict(size = 10,symbol = 'cross',color = 'rgba(0, 0, 0)'), line = dict(width = 2,color = 'rgb(0, 0, 0)'))]\n",
    "\n",
    "    layout = go.Layout(title = title,width=600,height=600,xaxis= dict(title= 'x'),yaxis= dict(title= 'y'))\n",
    "    \n",
    "    fig = go.Figure(data=data,layout=layout)\n",
    "               \n",
    "    return fig"
   ]
  },
  {
   "cell_type": "code",
   "execution_count": 47,
   "metadata": {
    "collapsed": true,
    "extensions": {
     "jupyter_dashboards": {
      "version": 1,
      "views": {
       "grid_default": {
        "hidden": true
       },
       "report_default": {}
      }
     }
    }
   },
   "outputs": [],
   "source": [
    "def doHeatmap2(array,x,y,title):\n",
    "           \n",
    "    data = np.flipud(array) #flip array prior to convert to a list, this is needed for when heatmap plots rows and columns    \n",
    "         \n",
    "    df4 = pandas.DataFrame(data)\n",
    "             \n",
    "    colorscale=[[0.0, 'rgb(255,0,0)'], [0.1111111111111111, 'rgb(204,0,0)'], [0.2222222222222222, 'rgb(153,0,0)'], [0.3333333333333333, 'rgb(102,0,0)'], [0.4444444444444444, 'rgb(0,53,0)'], [0.5555555555555556, 'rgb(0,0,0)'], [0.6666666666666666, 'rgb(0,255,0)'], [0.7777777777777778, 'rgb(0,204,0)'], [0.8888888888888888, 'rgb(0,153,0)'], [1.0, 'rgb(0,102,0)']]\n",
    "      \n",
    "    #colorscale=[[0.0, 'rgb(0,0,255)'], [0.1111111111111111, 'rgb(0,0,204)'], [0.2222222222222222, 'rgb(0,0,153)'], [0.3333333333333333, 'rgb(0,0,102)'], [0.4444444444444444, 'rgb(0,53,0)'], [0.5555555555555556, 'rgb(0,0,0)'], [0.6666666666666666, 'rgb(0,255,0)'], [0.7777777777777778, 'rgb(0,204,0)'], [0.8888888888888888, 'rgb(0,153,0)'], [1.0, 'rgb(0,102,0)']]\n",
    "        \n",
    "        \n",
    "    data = [go.Heatmap(z=df4.values.tolist(),zmin=0, zmax=200, colorscale=colorscale),go.Scatter(x=x,y=y,mode = 'markers',marker = dict(size = 10,symbol = 'cross',color = 'rgba(0, 255, 0)'), line = dict(width = 2,color = 'rgb(0, 0, 0)'))]\n",
    "\n",
    "    layout = go.Layout(title = title,width=600,height=600,xaxis= dict(title= 'x'),yaxis= dict(title= 'y'))\n",
    "    \n",
    "    fig = go.Figure(data=data,layout=layout)\n",
    "              \n",
    "                   \n",
    "    return fig"
   ]
  },
  {
   "cell_type": "code",
   "execution_count": 48,
   "metadata": {
    "collapsed": true,
    "extensions": {
     "jupyter_dashboards": {
      "version": 1,
      "views": {
       "grid_default": {
        "hidden": true
       },
       "report_default": {}
      }
     }
    }
   },
   "outputs": [],
   "source": [
    "def doHeatMapImages(period1,period2,x,y):\n",
    "    \n",
    "    #pdb.set_trace()\n",
    "    \n",
    "    rescaledBig1, rescaledSmall1, rescaledSlope1 = doUtilisationImage(period1,x,y)\n",
    "    \n",
    "    rescaledBig2, rescaledSmall2, rescaledSlope2 = doUtilisationImage(period2,x,y)\n",
    "    \n",
    "    \n",
    "    deltaBig1 = rescaledBig1\n",
    "    \n",
    "    deltaBig2 = rescaledBig2    \n",
    "   \n",
    "    change = (deltaBig2/deltaBig1)-1\n",
    "    \n",
    "    bigPercentChange = change*100\n",
    "    \n",
    "    mask = bigPercentChange >= 100\n",
    "    \n",
    "    bigPercentChange[mask]=100\n",
    "    \n",
    "    mask = bigPercentChange <= -100\n",
    "    \n",
    "    bigPercentChange[mask]= -100\n",
    "    \n",
    "    bigPercentChange = bigPercentChange +100   \n",
    "    \n",
    "    \n",
    "    #pdb.set_trace()    \n",
    "    \n",
    "    deltaSmall1 = rescaledSmall1\n",
    "    \n",
    "    deltaSmall2 = rescaledSmall2   \n",
    "   \n",
    "    change = (deltaSmall2/deltaSmall1)-1\n",
    "    \n",
    "    smallPercentChange = change*100  \n",
    "    \n",
    "    mask = smallPercentChange >= 100\n",
    "    \n",
    "    smallPercentChange[mask]=100\n",
    "    \n",
    "    mask = smallPercentChange <= -100\n",
    "    \n",
    "    smallPercentChange[mask]= -100\n",
    "    \n",
    "    smallPercentChange = smallPercentChange +100\n",
    "    \n",
    "            \n",
    "    deltaSlope1 = rescaledSlope1\n",
    "    \n",
    "    deltaSlope2 = rescaledSlope2   \n",
    "   \n",
    "    change = (deltaSlope2/deltaSlope1)-1\n",
    "    \n",
    "    slopePercentChange = change*100 \n",
    "    \n",
    "    mask = slopePercentChange >= 100\n",
    "    \n",
    "    slopePercentChange[mask]=100\n",
    "    \n",
    "    mask = slopePercentChange <= -100\n",
    "    \n",
    "    slopePercentChange[mask]= -100\n",
    "    \n",
    "    slopePercentChange = slopePercentChange +100  \n",
    "       \n",
    "      \n",
    "    \n",
    "    return rescaledBig1, rescaledSmall1, rescaledSlope1, rescaledBig2, rescaledSmall2, rescaledSlope2, bigPercentChange, smallPercentChange, slopePercentChange \n",
    "    \n",
    "    \n",
    "    "
   ]
  },
  {
   "cell_type": "code",
   "execution_count": 49,
   "metadata": {
    "collapsed": true,
    "extensions": {
     "jupyter_dashboards": {
      "version": 1,
      "views": {
       "grid_default": {
        "hidden": true
       },
       "report_default": {}
      }
     }
    }
   },
   "outputs": [],
   "source": [
    "def on_button_clickedPlotE(b):\n",
    "    \n",
    "    # First period\n",
    " \n",
    "    #period1 = temp5.value -1\n",
    "    \n",
    "    period1 = temp5.value \n",
    "    \n",
    "    #period2 = temp6.value -1\n",
    "    \n",
    "    period2 = temp6.value\n",
    "   \n",
    "    x = int(row.value)\n",
    "    \n",
    "    y = int(col.value)\n",
    "    \n",
    "    #pdb.set_trace()\n",
    "    \n",
    "    rescaledBig1, rescaledSmall1, rescaledSlope1, rescaledBig2, rescaledSmall2, rescaledSlope2, bigPercentChange, smallPercentChange, slopePercentChange = doHeatMapImages(period1,period2,x,y) \n",
    "        \n",
    "    meth = temp4.value   \n",
    "    \n",
    "    if meth == 'b':\n",
    "        \n",
    "        #plot = doHeatmap(rescaledBig1,x,y,\"Area under curve - large integral - Period \"+str(period1+1))\n",
    "        \n",
    "        plot = doHeatmap(rescaledBig1,x,y,\"Area under curve - large integral - Period \"+str(period1))\n",
    "        \n",
    "    elif meth == 's':\n",
    "        \n",
    "        #plot = doHeatmap(rescaledSmall1,x,y,\"Area under curve - small integral- Period \"+str(period1+1))\n",
    "        \n",
    "        plot = doHeatmap(rescaledSmall1,x,y,\"Area under curve - small integral- Period \"+str(period1))\n",
    "        \n",
    "    elif meth == 'r':\n",
    "        \n",
    "        plot = doHeatmap(rescaledSlope1,x,y,\"Rate of decline - Period \"+str(period1))\n",
    "\n",
    "    filename1 = \"researchProject/heatP1\"\n",
    "\n",
    "    heatp1 = py.iplot(plot, filename=filename1)\n",
    "       \n",
    "    display(heatp1)    \n",
    "    \n",
    "    # second period\n",
    "        \n",
    "    if meth == 'b':\n",
    "        \n",
    "        #plot = doHeatmap(rescaledBig2,x,y,\"Area under curve - large integral - Period \"+str(period2+1))\n",
    "        \n",
    "        plot = doHeatmap(rescaledBig2,x,y,\"Area under curve - large integral - Period \"+str(period2))\n",
    "        \n",
    "    elif meth == 's':\n",
    "        \n",
    "        #plot = doHeatmap(rescaledSmall2,x,y,\"Area under curve - small integral- Period \"+str(period2+1))\n",
    "        \n",
    "        plot = doHeatmap(rescaledSmall2,x,y,\"Area under curve - small integral- Period \"+str(period2))\n",
    "        \n",
    "    elif meth == 'r':\n",
    "        \n",
    "        plot = doHeatmap(rescaledSlope2,x,y,\"Rate of decline - Period \"+str(period2))\n",
    "\n",
    "    filename2 = \"researchProject/heatP2\"\n",
    "\n",
    "    heatp2 = py.iplot(plot, filename=filename2)\n",
    "    \n",
    "    display(heatp2)\n",
    "        \n",
    "    # difference \n",
    "    \n",
    "    if meth == 'b':\n",
    "        \n",
    "        plot = doHeatmap2(bigPercentChange,x,y,\"Area under curve - large integral - Difference\")\n",
    "        \n",
    "    elif meth == 's':\n",
    "        \n",
    "        plot = doHeatmap2(smallPercentChange,x,y,\"Area under curve - small integral- Difference\")\n",
    "        \n",
    "    elif meth == 'r':\n",
    "        \n",
    "        plot = doHeatmap2(slopePercentChange,x,y,\"Rate of decline - Difference\")\n",
    "\n",
    "    filename3 = \"researchProject/heatdif\"\n",
    "    \n",
    "    heatdif = py.iplot(plot, filename=filename3)\n",
    "\n",
    "    display(heatdif)   \n",
    "    \n",
    "    "
   ]
  },
  {
   "cell_type": "code",
   "execution_count": 50,
   "metadata": {
    "extensions": {
     "jupyter_dashboards": {
      "version": 1,
      "views": {
       "grid_default": {
        "col": 0,
        "height": 2,
        "hidden": true,
        "row": 56,
        "width": 5
       },
       "report_default": {}
      }
     }
    }
   },
   "outputs": [
    {
     "data": {
      "application/vnd.jupyter.widget-view+json": {
       "model_id": "94e21016a7664713bd5bb5965d4b660b"
      }
     },
     "metadata": {},
     "output_type": "display_data"
    }
   ],
   "source": [
    "temp4 = widgets.Dropdown(options ={'Rate of decline':'r','Area under curve - large integral':'b','Area under curve - small integral':'s'}) #\n",
    "\n",
    "display(temp4)"
   ]
  },
  {
   "cell_type": "code",
   "execution_count": 52,
   "metadata": {
    "extensions": {
     "jupyter_dashboards": {
      "version": 1,
      "views": {
       "grid_default": {
        "col": 0,
        "height": 5,
        "hidden": false,
        "row": 53,
        "width": 5
       },
       "report_default": {}
      }
     }
    }
   },
   "outputs": [
    {
     "data": {
      "application/vnd.jupyter.widget-view+json": {
       "model_id": "09d88f8927354951bf9d3171067dbe35"
      }
     },
     "metadata": {},
     "output_type": "display_data"
    },
    {
     "data": {
      "application/vnd.jupyter.widget-view+json": {
       "model_id": "8e67ac6ab7d04a2f9240a696e0eaa3d8"
      }
     },
     "metadata": {},
     "output_type": "display_data"
    }
   ],
   "source": [
    "utilData = pd.read_csv('output.csv')\n",
    "\n",
    "mask = utilData['auc']>0\n",
    "\n",
    "aa = utilData[mask]\n",
    "\n",
    "maxs = aa['index'].max()\n",
    "\n",
    "newDict = {}\n",
    "\n",
    "for i in range(maxs):\n",
    "    \n",
    "    p = 'Period ' + str(i)\n",
    "    \n",
    "    newDict.update({p: i})\n",
    "\n",
    "temp5 = widgets.Dropdown(options =newDict,description='1st period',button_style='success')\n",
    "\n",
    "temp6 = widgets.Dropdown(options =newDict,description= '2nd period',button_style='info')\n",
    "\n",
    "display(temp5)\n",
    "\n",
    "display(temp6)"
   ]
  },
  {
   "cell_type": "code",
   "execution_count": 0,
   "metadata": {
    "collapsed": true,
    "extensions": {
     "jupyter_dashboards": {
      "version": 1,
      "views": {
       "grid_default": {
        "hidden": true
       },
       "report_default": {}
      }
     }
    }
   },
   "outputs": [],
   "source": []
  },
  {
   "cell_type": "markdown",
   "metadata": {
    "extensions": {
     "jupyter_dashboards": {
      "version": 1,
      "views": {
       "grid_default": {
        "col": 0,
        "height": 4,
        "hidden": false,
        "row": 111,
        "width": 12
       },
       "report_default": {}
      }
     }
    }
   },
   "source": [
    "NOTE: I need to work through this a bit more, the differences between the plotted auc in the utilisation plot and the image heat maps is due to the rescaling that i do., also I think a better method of determining the date to use as the period is needed, at present this is the date or period selected from the utlisation plot of the centre coord and the rest of the pixels are matched closest to that date. I think a better method would be to somehow calculate the average  of all the pixels, not sure what this means???"
   ]
  },
  {
   "cell_type": "code",
   "execution_count": 57,
   "metadata": {
    "extensions": {
     "jupyter_dashboards": {
      "version": 1,
      "views": {
       "grid_default": {
        "col": 0,
        "height": 22,
        "hidden": true,
        "row": 55,
        "width": 9
       },
       "report_default": {}
      }
     }
    }
   },
   "outputs": [
    {
     "data": {
      "application/vnd.jupyter.widget-view+json": {
       "model_id": "4965e268f188457bb6008855e2780eb3"
      }
     },
     "metadata": {},
     "output_type": "display_data"
    },
    {
     "name": "stdout",
     "output_type": "stream",
     "text": [
      "1\n",
      "9\n"
     ]
    },
    {
     "data": {
      "text/html": [
       "<iframe id=\"igraph\" scrolling=\"no\" style=\"border:none;\" seamless=\"seamless\" src=\"https://plot.ly/~NTPlotly/975.embed\" height=\"600px\" width=\"600px\"></iframe>"
      ],
      "text/plain": [
       "<plotly.tools.PlotlyDisplay object>"
      ]
     },
     "metadata": {},
     "output_type": "display_data"
    },
    {
     "data": {
      "text/html": [
       "<iframe id=\"igraph\" scrolling=\"no\" style=\"border:none;\" seamless=\"seamless\" src=\"https://plot.ly/~NTPlotly/977.embed\" height=\"600px\" width=\"600px\"></iframe>"
      ],
      "text/plain": [
       "<plotly.tools.PlotlyDisplay object>"
      ]
     },
     "metadata": {},
     "output_type": "display_data"
    },
    {
     "data": {
      "text/html": [
       "<iframe id=\"igraph\" scrolling=\"no\" style=\"border:none;\" seamless=\"seamless\" src=\"https://plot.ly/~NTPlotly/979.embed\" height=\"600px\" width=\"600px\"></iframe>"
      ],
      "text/plain": [
       "<plotly.tools.PlotlyDisplay object>"
      ]
     },
     "metadata": {},
     "output_type": "display_data"
    }
   ],
   "source": [
    "button = widgets.Button(description=\"Plot Utilisation\")\n",
    "display(button)\n",
    "button.on_click(on_button_clickedPlotE)"
   ]
  },
  {
   "cell_type": "code",
   "execution_count": 58,
   "metadata": {
    "collapsed": true,
    "extensions": {
     "jupyter_dashboards": {
      "version": 1,
      "views": {
       "grid_default": {
        "hidden": true
       },
       "report_default": {}
      }
     }
    }
   },
   "outputs": [],
   "source": [
    "def writeData(data,filename):\n",
    "\n",
    "    with rasterio.open('chip.tif') as src:\n",
    "\n",
    "        profile = src.profile\n",
    "\n",
    "        profile.update(dtype=rasterio.uint8, count=1, compress='lzw')\n",
    "\n",
    "    with rasterio.open(filename, 'w', **profile) as dst:\n",
    "    \n",
    "        dst.write(data.astype(rasterio.uint8), 1)   \n",
    "    "
   ]
  },
  {
   "cell_type": "code",
   "execution_count": 60,
   "metadata": {
    "collapsed": true,
    "extensions": {
     "jupyter_dashboards": {
      "version": 1,
      "views": {
       "grid_default": {
        "hidden": true
       },
       "report_default": {}
      }
     }
    }
   },
   "outputs": [],
   "source": [
    "def imageOverlay():\n",
    "    \n",
    "    site = text.value\n",
    "    \n",
    "    period1 = temp5.value\n",
    "    \n",
    "    period2 = temp6.value\n",
    "\n",
    "    x = int(row.value)\n",
    "    \n",
    "    y = int(col.value)\n",
    "    \n",
    "    df = pd.read_csv('siteDetails.csv')\n",
    "    \n",
    "    lat,longt = getSiteLatLon(site,df)\n",
    "    \n",
    "        \n",
    "    location=[lat,longt]\n",
    "    \n",
    "    m = folium.Map(location=location,zoom_start=15)\n",
    "\n",
    "    url = 'http://services.arcgisonline.com/arcgis/rest/services/World_Imagery/MapServer/MapServer/tile/{z}/{y}/{x}'\n",
    "\n",
    "    m.add_tile_layer(tile_name=\"World_Imagery\",tile_url=url, attr =\"world imagery\" )\n",
    "    \n",
    "    folium.Marker([location[0], location[1]], popup=site).add_to(m)\n",
    "    \n",
    "    coords = makeSceneBound(location)\n",
    "    \n",
    "    #pdb.set_trace()\n",
    "        \n",
    "    min_lat = coords[0][0]\n",
    "    \n",
    "    max_lat = coords[2][0]\n",
    "    \n",
    "    min_lon = coords[0][1]\n",
    "    \n",
    "    max_lon = coords[2][1]        \n",
    "    \n",
    "    \n",
    "    rescaledBig1, rescaledSmall1, rescaledSlope1, rescaledBig2, rescaledSmall2, rescaledSlope2, bigPercentChange, smallPercentChange, slopePercentChange = doHeatMapImages(period1,period2,x,y)\n",
    "    \n",
    "    #pdb.set_trace()        \n",
    "    \n",
    "    outputs1 = [rescaledBig1, rescaledSmall1, rescaledSlope1, rescaledBig2, rescaledSmall2, rescaledSlope2]\n",
    "    \n",
    "    names1 = ['AUC-large-P1', 'AUC-small-P1', 'Slope-P1', 'AUC-large-P2', 'AUC-small-P2', 'Slope-P2']\n",
    "    \n",
    "    outputs2 = [bigPercentChange, smallPercentChange, slopePercentChange]\n",
    "    \n",
    "    names2 = ['AUC-large-difference', 'AUC-small-difference', 'Slope-difference']\n",
    "     \n",
    "    #pdb.set_trace()\n",
    "    for i in range(len(outputs1)):\n",
    "        \n",
    "        #pdb.set_trace()\n",
    "        \n",
    "        #cm = matplotlib.cm.get_cmap('terrain')\n",
    "        \n",
    "        cm = matplotlib.cm.get_cmap('Greys')\n",
    "\n",
    "        colored = outputs1[i].astype(int)\n",
    "        \n",
    "        #normed_data = (colored - np.nanmin(colored)) / (np.nanmax(colored) - np.nanmin(colored))\n",
    "\n",
    "        coloredData = cm(colored)\n",
    "                                                        \n",
    "        #aa = plugins.ImageOverlay(coloredData,bounds =[[min_lat, min_lon], [max_lat, max_lon]])\n",
    "        \n",
    "        matplotlib.pyplot.imsave('test.png', coloredData)\n",
    "        \n",
    "        aa = plugins.ImageOverlay(image=open('test.png'),opacity=0.9,bounds =[[min_lat, min_lon], [max_lat, max_lon]])\n",
    "        \n",
    "    \n",
    "        aa.layer_name = names1[i]\n",
    "        \n",
    "        m.add_children(aa)\n",
    "    \n",
    "        #writeData(outputs1[i],'data/'+ names1[i] + '.tif')\n",
    "     \n",
    "    \n",
    "        \n",
    "    for i in range(len(outputs2)):\n",
    "        \n",
    "        if i == 2:\n",
    "            \n",
    "            cm = matplotlib.cm.get_cmap('RdBu')\n",
    "            #cm = matplotlib.cm.get_cmap('Greys')\n",
    "            \n",
    "        else:\n",
    "                    \n",
    "            cm = matplotlib.cm.get_cmap('seismic')\n",
    "            \n",
    "            #cm = matplotlib.cm.get_cmap('Greys')\n",
    "\n",
    "        colored = outputs2[i].astype(int)\n",
    "\n",
    "        coloredData = cm(colored)\n",
    "        \n",
    "        matplotlib.pyplot.imsave('test.png', coloredData)\n",
    "        \n",
    "        aa = plugins.ImageOverlay(image=open('test.png'),opacity=0.5,bounds =[[min_lat, min_lon], [max_lat, max_lon]])\n",
    "              \n",
    "        #aa = plugins.ImageOverlay(coloredData, opacity=0.7,bounds =[[min_lat, min_lon], [max_lat, max_lon]])\n",
    "    \n",
    "        aa.layer_name = names2[i]\n",
    "        \n",
    "        m.add_children(aa)\n",
    "    \n",
    "    folium.LayerControl().add_to(m) \n",
    "    \n",
    "    folium.LatLngPopup().add_to(m)\n",
    "           \n",
    "    \n",
    "    display(m)    \n",
    "    \n",
    "    "
   ]
  },
  {
   "cell_type": "code",
   "execution_count": 61,
   "metadata": {
    "collapsed": true,
    "extensions": {
     "jupyter_dashboards": {
      "version": 1,
      "views": {
       "grid_default": {
        "hidden": true
       },
       "report_default": {}
      }
     }
    }
   },
   "outputs": [],
   "source": [
    "def onButtonClickImageOverlay(b):\n",
    "        \n",
    "    \n",
    "    imageOverlay()\n",
    "    "
   ]
  },
  {
   "cell_type": "code",
   "execution_count": 62,
   "metadata": {
    "extensions": {
     "jupyter_dashboards": {
      "version": 1,
      "views": {
       "grid_default": {
        "col": 0,
        "height": 21,
        "hidden": false,
        "row": 58,
        "width": 5
       },
       "report_default": {}
      }
     }
    }
   },
   "outputs": [
    {
     "data": {
      "application/vnd.jupyter.widget-view+json": {
       "model_id": "374eda03c2e9479f9d468116cab0ef45"
      }
     },
     "metadata": {},
     "output_type": "display_data"
    },
    {
     "ename": "IndexError",
     "evalue": "single positional indexer is out-of-bounds",
     "output_type": "error",
     "traceback": [
      "\u001b[1;31m---------------------------------------------------------------------------\u001b[0m",
      "\u001b[1;31mIndexError\u001b[0m                                Traceback (most recent call last)",
      "\u001b[1;32m<ipython-input-61-24cb3893961d>\u001b[0m in \u001b[0;36monButtonClickImageOverlay\u001b[1;34m(b)\u001b[0m\n\u001b[0;32m      2\u001b[0m \u001b[1;33m\u001b[0m\u001b[0m\n\u001b[0;32m      3\u001b[0m \u001b[1;33m\u001b[0m\u001b[0m\n\u001b[1;32m----> 4\u001b[1;33m     \u001b[0mimageOverlay\u001b[0m\u001b[1;33m(\u001b[0m\u001b[1;33m)\u001b[0m\u001b[1;33m\u001b[0m\u001b[0m\n\u001b[0m\u001b[0;32m      5\u001b[0m \u001b[1;33m\u001b[0m\u001b[0m\n",
      "\u001b[1;32m<ipython-input-60-285539c4e58a>\u001b[0m in \u001b[0;36mimageOverlay\u001b[1;34m()\u001b[0m\n\u001b[0;32m     13\u001b[0m     \u001b[0mdf\u001b[0m \u001b[1;33m=\u001b[0m \u001b[0mpd\u001b[0m\u001b[1;33m.\u001b[0m\u001b[0mread_csv\u001b[0m\u001b[1;33m(\u001b[0m\u001b[1;34m'siteDetails.csv'\u001b[0m\u001b[1;33m)\u001b[0m\u001b[1;33m\u001b[0m\u001b[0m\n\u001b[0;32m     14\u001b[0m \u001b[1;33m\u001b[0m\u001b[0m\n\u001b[1;32m---> 15\u001b[1;33m     \u001b[0mlat\u001b[0m\u001b[1;33m,\u001b[0m\u001b[0mlongt\u001b[0m \u001b[1;33m=\u001b[0m \u001b[0mgetSiteLatLon\u001b[0m\u001b[1;33m(\u001b[0m\u001b[0msite\u001b[0m\u001b[1;33m,\u001b[0m\u001b[0mdf\u001b[0m\u001b[1;33m)\u001b[0m\u001b[1;33m\u001b[0m\u001b[0m\n\u001b[0m\u001b[0;32m     16\u001b[0m \u001b[1;33m\u001b[0m\u001b[0m\n\u001b[0;32m     17\u001b[0m \u001b[1;33m\u001b[0m\u001b[0m\n",
      "\u001b[1;32m<ipython-input-31-011bed24ceef>\u001b[0m in \u001b[0;36mgetSiteLatLon\u001b[1;34m(site, df)\u001b[0m\n\u001b[0;32m      6\u001b[0m     \u001b[0mlat\u001b[0m \u001b[1;33m=\u001b[0m \u001b[0mdf\u001b[0m\u001b[1;33m[\u001b[0m\u001b[1;34m'lat'\u001b[0m\u001b[1;33m]\u001b[0m\u001b[1;33m[\u001b[0m\u001b[0mmask\u001b[0m\u001b[1;33m]\u001b[0m\u001b[1;33m\u001b[0m\u001b[0m\n\u001b[0;32m      7\u001b[0m \u001b[1;33m\u001b[0m\u001b[0m\n\u001b[1;32m----> 8\u001b[1;33m     \u001b[0mlat\u001b[0m \u001b[1;33m=\u001b[0m \u001b[0mlat\u001b[0m\u001b[1;33m.\u001b[0m\u001b[0miloc\u001b[0m\u001b[1;33m[\u001b[0m\u001b[1;36m0\u001b[0m\u001b[1;33m]\u001b[0m\u001b[1;33m\u001b[0m\u001b[0m\n\u001b[0m\u001b[0;32m      9\u001b[0m \u001b[1;33m\u001b[0m\u001b[0m\n\u001b[0;32m     10\u001b[0m     \u001b[0mlongt\u001b[0m \u001b[1;33m=\u001b[0m \u001b[0mdf\u001b[0m\u001b[1;33m[\u001b[0m\u001b[1;34m'longt'\u001b[0m\u001b[1;33m]\u001b[0m\u001b[1;33m[\u001b[0m\u001b[0mmask\u001b[0m\u001b[1;33m]\u001b[0m\u001b[1;33m\u001b[0m\u001b[0m\n",
      "\u001b[1;32m/opt/conda/envs/python2/lib/python2.7/site-packages/pandas/core/indexing.pyc\u001b[0m in \u001b[0;36m__getitem__\u001b[1;34m(self, key)\u001b[0m\n\u001b[0;32m   1310\u001b[0m             \u001b[1;32mreturn\u001b[0m \u001b[0mself\u001b[0m\u001b[1;33m.\u001b[0m\u001b[0m_getitem_tuple\u001b[0m\u001b[1;33m(\u001b[0m\u001b[0mkey\u001b[0m\u001b[1;33m)\u001b[0m\u001b[1;33m\u001b[0m\u001b[0m\n\u001b[0;32m   1311\u001b[0m         \u001b[1;32melse\u001b[0m\u001b[1;33m:\u001b[0m\u001b[1;33m\u001b[0m\u001b[0m\n\u001b[1;32m-> 1312\u001b[1;33m             \u001b[1;32mreturn\u001b[0m \u001b[0mself\u001b[0m\u001b[1;33m.\u001b[0m\u001b[0m_getitem_axis\u001b[0m\u001b[1;33m(\u001b[0m\u001b[0mkey\u001b[0m\u001b[1;33m,\u001b[0m \u001b[0maxis\u001b[0m\u001b[1;33m=\u001b[0m\u001b[1;36m0\u001b[0m\u001b[1;33m)\u001b[0m\u001b[1;33m\u001b[0m\u001b[0m\n\u001b[0m\u001b[0;32m   1313\u001b[0m \u001b[1;33m\u001b[0m\u001b[0m\n\u001b[0;32m   1314\u001b[0m     \u001b[1;32mdef\u001b[0m \u001b[0m_getitem_axis\u001b[0m\u001b[1;33m(\u001b[0m\u001b[0mself\u001b[0m\u001b[1;33m,\u001b[0m \u001b[0mkey\u001b[0m\u001b[1;33m,\u001b[0m \u001b[0maxis\u001b[0m\u001b[1;33m=\u001b[0m\u001b[1;36m0\u001b[0m\u001b[1;33m)\u001b[0m\u001b[1;33m:\u001b[0m\u001b[1;33m\u001b[0m\u001b[0m\n",
      "\u001b[1;32m/opt/conda/envs/python2/lib/python2.7/site-packages/pandas/core/indexing.pyc\u001b[0m in \u001b[0;36m_getitem_axis\u001b[1;34m(self, key, axis)\u001b[0m\n\u001b[0;32m   1626\u001b[0m \u001b[1;33m\u001b[0m\u001b[0m\n\u001b[0;32m   1627\u001b[0m                 \u001b[1;31m# validate the location\u001b[0m\u001b[1;33m\u001b[0m\u001b[1;33m\u001b[0m\u001b[0m\n\u001b[1;32m-> 1628\u001b[1;33m                 \u001b[0mself\u001b[0m\u001b[1;33m.\u001b[0m\u001b[0m_is_valid_integer\u001b[0m\u001b[1;33m(\u001b[0m\u001b[0mkey\u001b[0m\u001b[1;33m,\u001b[0m \u001b[0maxis\u001b[0m\u001b[1;33m)\u001b[0m\u001b[1;33m\u001b[0m\u001b[0m\n\u001b[0m\u001b[0;32m   1629\u001b[0m \u001b[1;33m\u001b[0m\u001b[0m\n\u001b[0;32m   1630\u001b[0m             \u001b[1;32mreturn\u001b[0m \u001b[0mself\u001b[0m\u001b[1;33m.\u001b[0m\u001b[0m_get_loc\u001b[0m\u001b[1;33m(\u001b[0m\u001b[0mkey\u001b[0m\u001b[1;33m,\u001b[0m \u001b[0maxis\u001b[0m\u001b[1;33m=\u001b[0m\u001b[0maxis\u001b[0m\u001b[1;33m)\u001b[0m\u001b[1;33m\u001b[0m\u001b[0m\n",
      "\u001b[1;32m/opt/conda/envs/python2/lib/python2.7/site-packages/pandas/core/indexing.pyc\u001b[0m in \u001b[0;36m_is_valid_integer\u001b[1;34m(self, key, axis)\u001b[0m\n\u001b[0;32m   1540\u001b[0m         \u001b[0ml\u001b[0m \u001b[1;33m=\u001b[0m \u001b[0mlen\u001b[0m\u001b[1;33m(\u001b[0m\u001b[0max\u001b[0m\u001b[1;33m)\u001b[0m\u001b[1;33m\u001b[0m\u001b[0m\n\u001b[0;32m   1541\u001b[0m         \u001b[1;32mif\u001b[0m \u001b[0mkey\u001b[0m \u001b[1;33m>=\u001b[0m \u001b[0ml\u001b[0m \u001b[1;32mor\u001b[0m \u001b[0mkey\u001b[0m \u001b[1;33m<\u001b[0m \u001b[1;33m-\u001b[0m\u001b[0ml\u001b[0m\u001b[1;33m:\u001b[0m\u001b[1;33m\u001b[0m\u001b[0m\n\u001b[1;32m-> 1542\u001b[1;33m             \u001b[1;32mraise\u001b[0m \u001b[0mIndexError\u001b[0m\u001b[1;33m(\u001b[0m\u001b[1;34m\"single positional indexer is out-of-bounds\"\u001b[0m\u001b[1;33m)\u001b[0m\u001b[1;33m\u001b[0m\u001b[0m\n\u001b[0m\u001b[0;32m   1543\u001b[0m         \u001b[1;32mreturn\u001b[0m \u001b[0mTrue\u001b[0m\u001b[1;33m\u001b[0m\u001b[0m\n\u001b[0;32m   1544\u001b[0m \u001b[1;33m\u001b[0m\u001b[0m\n",
      "\u001b[1;31mIndexError\u001b[0m: single positional indexer is out-of-bounds"
     ]
    }
   ],
   "source": [
    "button = widgets.Button(description=\"Image Overlay\")\n",
    "\n",
    "display(button)\n",
    "\n",
    "button.on_click(onButtonClickImageOverlay)"
   ]
  },
  {
   "cell_type": "code",
   "execution_count": 34,
   "metadata": {
    "collapsed": true,
    "extensions": {
     "jupyter_dashboards": {
      "version": 1,
      "views": {
       "grid_default": {
        "hidden": true
       },
       "report_default": {}
      }
     }
    }
   },
   "outputs": [],
   "source": [
    "def onButtonClickZ(b):\n",
    "    \n",
    "    filename = dropDownImages.value\n",
    "\n",
    "    src = rasterio.open('data/'+filename)\n",
    "\n",
    "    lat = latitude.value\n",
    "    \n",
    "    lat = float(lat)\n",
    "\n",
    "    longt= longitude.value\n",
    "    \n",
    "    longt = float(longt)\n",
    "    \n",
    "    #pdb.set_trace()\n",
    "\n",
    "    utms = utm.from_latlon(lat,longt)\n",
    "\n",
    "    north = utms[1]\n",
    "\n",
    "    east = utms[0]\n",
    "\n",
    "    vals = src.sample([(east, north)])\n",
    "\n",
    "    aa = list(vals)\n",
    "\n",
    "    pixelValue = aa[0][0]\n",
    "    \n",
    "    print pixelValue,north,east\n",
    "\n",
    "    centreEast = (src.bounds.left + src.bounds.right) / 2.0\n",
    "\n",
    "    centreNorth = (src.bounds.bottom + src.bounds.top) / 2.0\n",
    "\n",
    "    diffEast = east - centreEast\n",
    "\n",
    "    diffNorth = centreNorth - north\n",
    "\n",
    "    cellX = round(diffEast/30)\n",
    "\n",
    "    cellY = round(diffNorth/30)\n",
    "\n",
    "    newY = 67/2+cellX\n",
    "\n",
    "    newX = 67/2+cellY\n",
    "\n",
    "    dfV,modelledData = getOutputData(\"data/output.csv\",'data/outputTimeSeriesPk.pkl',int(newX),int(newY))\n",
    "\n",
    "    fig = doPeakTroughPlots(dfV,modelledData)\n",
    "\n",
    "    filename1 = \"researchProject/utilisation\"\n",
    "\n",
    "    utiliPlot = py.iplot(fig, filename=filename1)\n",
    "\n",
    "    display(utiliPlot)\n"
   ]
  },
  {
   "cell_type": "code",
   "execution_count": 35,
   "metadata": {
    "extensions": {
     "jupyter_dashboards": {
      "version": 1,
      "views": {
       "grid_default": {
        "col": 0,
        "height": 2,
        "hidden": false,
        "row": 87,
        "width": 5
       },
       "report_default": {}
      }
     }
    }
   },
   "outputs": [
    {
     "name": "stderr",
     "output_type": "stream",
     "text": [
      "The installed widget Javascript is the wrong version.\n"
     ]
    }
   ],
   "source": [
    "dropDownImages = widgets.Dropdown(options ={'AUC-large-P1':'AUC-large-P1.tif','AUC-small-P1':'AUC-small-P1.tif','Slope-P1':'Slope-P1.tif','AUC-large-P2':'AUC-large-P2.tif','AUC-small-P2':'AUC-small-P2.tif','Slope-P2':'Slope-P2.tif','AUC-large-difference':'AUC-large-difference.tif','AUC-small-difference':'AUC-small-difference.tif','Slope-difference':'Slope-difference.tif'}) #\n",
    "\n",
    "display(dropDownImages)"
   ]
  },
  {
   "cell_type": "code",
   "execution_count": 36,
   "metadata": {
    "extensions": {
     "jupyter_dashboards": {
      "version": 1,
      "views": {
       "grid_default": {
        "col": 0,
        "height": 4,
        "hidden": false,
        "row": 83,
        "width": 3
       },
       "report_default": {
        "hidden": true
       }
      }
     }
    }
   },
   "outputs": [
    {
     "name": "stderr",
     "output_type": "stream",
     "text": [
      "The installed widget Javascript is the wrong version.\n",
      "The installed widget Javascript is the wrong version.\n"
     ]
    }
   ],
   "source": [
    "latitude = widgets.Text(description=\"Latitude\")\n",
    "longitude = widgets.Text(description=\"Longitude\")\n",
    "display(latitude)\n",
    "display(longitude)"
   ]
  },
  {
   "cell_type": "code",
   "execution_count": 37,
   "metadata": {
    "extensions": {
     "jupyter_dashboards": {
      "version": 1,
      "views": {
       "grid_default": {
        "col": 0,
        "height": 22,
        "hidden": false,
        "row": 89,
        "width": 12
       },
       "report_default": {}
      }
     }
    }
   },
   "outputs": [
    {
     "name": "stderr",
     "output_type": "stream",
     "text": [
      "The installed widget Javascript is the wrong version.\n"
     ]
    }
   ],
   "source": [
    "button = widgets.Button(description=\"Get coord plot\")\n",
    "\n",
    "display(button)\n",
    "\n",
    "button.on_click(onButtonClickZ)"
   ]
  },
  {
   "cell_type": "markdown",
   "metadata": {
    "extensions": {
     "jupyter_dashboards": {
      "version": 1,
      "views": {
       "grid_default": {
        "hidden": true
       },
       "report_default": {
        "hidden": false
       }
      }
     }
    }
   },
   "source": [
    "# Text for dashboard"
   ]
  },
  {
   "cell_type": "markdown",
   "metadata": {
    "extensions": {
     "jupyter_dashboards": {
      "version": 1,
      "views": {
       "grid_default": {
        "col": 0,
        "height": 2,
        "hidden": false,
        "row": 0,
        "width": 5
       },
       "report_default": {
        "hidden": false
       }
      }
     }
    }
   },
   "source": [
    "### Step 1. Select field site"
   ]
  },
  {
   "cell_type": "markdown",
   "metadata": {
    "extensions": {
     "jupyter_dashboards": {
      "version": 1,
      "views": {
       "grid_default": {
        "col": 0,
        "height": 4,
        "hidden": false,
        "row": 79,
        "width": 12
       },
       "report_default": {
        "hidden": false
       }
      }
     }
    }
   },
   "source": [
    "#### Step 5B. Enter coordinates from map to re-plot utilisation"
   ]
  },
  {
   "cell_type": "markdown",
   "metadata": {
    "extensions": {
     "jupyter_dashboards": {
      "version": 1,
      "views": {
       "grid_default": {
        "col": 5,
        "height": 2,
        "hidden": true,
        "row": 0,
        "width": 3
       },
       "report_default": {
        "hidden": false
       }
      }
     }
    }
   },
   "source": [
    "### Step 3. Download image"
   ]
  },
  {
   "cell_type": "markdown",
   "metadata": {
    "extensions": {
     "jupyter_dashboards": {
      "version": 1,
      "views": {
       "grid_default": {
        "col": 5,
        "height": 2,
        "hidden": true,
        "row": 0,
        "width": 3
       },
       "report_default": {
        "hidden": false
       }
      }
     }
    }
   },
   "source": [
    "### Step 4. Click to process imagery"
   ]
  },
  {
   "cell_type": "markdown",
   "metadata": {
    "extensions": {
     "jupyter_dashboards": {
      "version": 1,
      "views": {
       "grid_default": {
        "col": 0,
        "height": 2,
        "hidden": true,
        "row": 23,
        "width": 7
       },
       "report_default": {
        "hidden": false
       }
      }
     }
    }
   },
   "source": [
    "### Step 5. Display field site & image extent "
   ]
  },
  {
   "cell_type": "markdown",
   "metadata": {
    "extensions": {
     "jupyter_dashboards": {
      "version": 1,
      "views": {
       "grid_default": {
        "col": 5,
        "height": 2,
        "hidden": false,
        "row": 0,
        "width": 5
       },
       "report_default": {
        "hidden": false
       }
      }
     }
    }
   },
   "source": [
    "### Step 2. Select row and column value to plot "
   ]
  },
  {
   "cell_type": "markdown",
   "metadata": {
    "extensions": {
     "jupyter_dashboards": {
      "version": 1,
      "views": {
       "grid_default": {
        "col": 0,
        "height": 2,
        "hidden": false,
        "row": 5,
        "width": 3
       },
       "report_default": {
        "hidden": false
       }
      }
     }
    }
   },
   "source": [
    "### Step 3. Generate peak  & trough plot"
   ]
  },
  {
   "cell_type": "markdown",
   "metadata": {
    "extensions": {
     "jupyter_dashboards": {
      "version": 1,
      "views": {
       "grid_default": {
        "col": 0,
        "height": 2,
        "hidden": false,
        "row": 27,
        "width": 4
       },
       "report_default": {
        "hidden": false
       }
      }
     }
    }
   },
   "source": [
    "### Step 4 . Generate utilisation plot"
   ]
  },
  {
   "cell_type": "markdown",
   "metadata": {
    "extensions": {
     "jupyter_dashboards": {
      "version": 1,
      "views": {
       "grid_default": {
        "col": 0,
        "height": 2,
        "hidden": true,
        "row": 72,
        "width": 3
       },
       "report_default": {
        "hidden": true
       }
      }
     }
    }
   },
   "source": [
    "### Step 9A. Peak detection plot"
   ]
  },
  {
   "cell_type": "markdown",
   "metadata": {
    "extensions": {
     "jupyter_dashboards": {
      "version": 1,
      "views": {
       "grid_default": {
        "col": 0,
        "height": 4,
        "hidden": true,
        "row": 72,
        "width": 12
       },
       "report_default": {
        "hidden": false
       }
      }
     }
    }
   },
   "source": [
    "### Step 9B. Peak lag assessment"
   ]
  },
  {
   "cell_type": "markdown",
   "metadata": {
    "extensions": {
     "jupyter_dashboards": {
      "version": 1,
      "views": {
       "grid_default": {
        "col": 0,
        "height": 2,
        "hidden": false,
        "row": 51,
        "width": 12
       },
       "report_default": {
        "hidden": true
       }
      }
     }
    }
   },
   "source": [
    "#### Step 5A. Select Periods to compare"
   ]
  },
  {
   "cell_type": "markdown",
   "metadata": {
    "extensions": {
     "jupyter_dashboards": {
      "version": 1,
      "views": {
       "grid_default": {
        "col": 0,
        "height": 3,
        "hidden": true,
        "row": 79,
        "width": 12
       },
       "report_default": {
        "hidden": true
       }
      }
     }
    }
   },
   "source": [
    "#### Step 5B. Map Comparisons"
   ]
  },
  {
   "cell_type": "markdown",
   "metadata": {
    "extensions": {
     "jupyter_dashboards": {
      "version": 1,
      "views": {
       "grid_default": {
        "col": 0,
        "height": 3,
        "hidden": true,
        "row": 79,
        "width": 12
       },
       "report_default": {
        "hidden": true
       }
      }
     }
    }
   },
   "source": [
    "#### Step 5B. Enter coordinates from map click to re - plot utilisation"
   ]
  },
  {
   "cell_type": "markdown",
   "metadata": {
    "extensions": {
     "jupyter_dashboards": {
      "version": 1,
      "views": {
       "grid_default": {
        "col": 0,
        "height": 2,
        "hidden": false,
        "row": 49,
        "width": 12
       },
       "report_default": {
        "hidden": true
       }
      }
     }
    }
   },
   "source": [
    "### Step 5. Utilisation Comparisons"
   ]
  },
  {
   "cell_type": "code",
   "execution_count": 0,
   "metadata": {
    "collapsed": true,
    "extensions": {
     "jupyter_dashboards": {
      "version": 1,
      "views": {
       "grid_default": {
        "hidden": true
       },
       "report_default": {
        "hidden": true
       }
      }
     }
    }
   },
   "outputs": [],
   "source": []
  }
 ],
 "metadata": {
  "anaconda-cloud": {},
  "extensions": {
   "jupyter_dashboards": {
    "activeView": "grid_default",
    "version": 1,
    "views": {
     "grid_default": {
      "cellMargin": 10,
      "defaultCellHeight": 20,
      "maxColumns": 12,
      "name": "grid",
      "type": "grid"
     },
     "report_default": {
      "name": "report",
      "type": "report"
     }
    }
   }
  },
  "kernelspec": {
   "display_name": "Python 2",
   "language": "python",
   "name": "python2"
  },
  "language_info": {
   "codemirror_mode": {
    "name": "ipython",
    "version": 2
   },
   "file_extension": ".py",
   "mimetype": "text/x-python",
   "name": "python",
   "nbconvert_exporter": "python",
   "pygments_lexer": "ipython2",
   "version": "2.7.12"
  }
 },
 "nbformat": 4,
 "nbformat_minor": 1
}
